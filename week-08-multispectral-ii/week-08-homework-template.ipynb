{
 "cells": [
  {
   "cell_type": "markdown",
   "metadata": {},
   "source": [
    "# Week 08 Homework - Multispectral Remote Sensing II\n",
    "\n",
    "## Produce a Report\n",
    "\n",
    "Create a new `Jupyter Notebook`. Name it: **lastName-firstInitial-weeknumber.ipynb**\n",
    "Within your `.ipynb` document, include the plots listed below. When you are done\n",
    "with your report, convert it to `html` format. Submit both the\n",
    "`.ipynb` file and the `.html or pdf` file to Canvas.\n",
    "\n",
    "\n",
    "### Include the Plots, Text and Outputs Below\n",
    "\n",
    "For all plots:\n",
    "\n",
    "* IMPORTANT: Before you submit your notebook, restart the kernel and run all! Your first cell in the notebook should be [1] and all cells should run in order! You will lose more points if your notebook does not run this week. \n",
    "* In  markdown cell BELOW each plot, add 2-4 sentences that describe what each plot shows. \n",
    "* Add appropriate titles to your plot that clearly and concisely describe what the plot shows.\n",
    "* Be sure to use the correct bands for each plot.\n",
    "* Specify the source of the data used for each plot in a plot caption using `ax.text()`.\n",
    "* OPTIONAL: Apply image stretch to your plots as you see fit. \n",
    "\n",
    "## Project Introduction\n",
    "\n",
    "Here please add 1 paragraph that overviews\n",
    "\n",
    "1. A very brief description of the Cold Springs Fire (please use the new lessons posted in week 7 that overview the fire event to assist with this). This should include the event name, event type, and event duration / dates. \n",
    "1. Where the data used in this notebook are from - IE where is the field site located\n",
    "1. What data sources you used in the analysis \n",
    "\n",
    "\n",
    "##### dNBR burn classes\n",
    "\n",
    "Note that depending on how you scaled your data, you may need to scale the\n",
    "values below by a factor of 10.\n",
    "\n",
    "| SEVERITY LEVEL  | dNBR RANGE |\n",
    "|----------------|--------------|\n",
    "| Enhanced Regrowth | < -.1 |\n",
    "| Unburned        | -.1 to +.1 |\n",
    "| Low Severity     | +.1 to +.27 |\n",
    "| Moderate Severity  | +.27 to +.66 |\n",
    "|==\n",
    "| High Severity    | > .66 |\n",
    "\n",
    "****\n",
    "\n",
    "\n"
   ]
  },
  {
   "cell_type": "code",
   "execution_count": null,
   "metadata": {
    "hideCode": false,
    "hidePrompt": false,
    "tags": [
     "hide"
    ]
   },
   "outputs": [],
   "source": [
    "# Import libraries\n"
   ]
  },
  {
   "cell_type": "markdown",
   "metadata": {},
   "source": [
    "## Plot 1 - Grid of Plots: NAIP, Landsat and MODIS\n",
    "\n",
    "Create a single plot that contains a grid of 3, 3 band color infrared (also called false color) plots using:\n",
    "images using:\n",
    "\n",
    "* Post Fire NAIP data\n",
    "* Post Fire Landsat data\n",
    "* Post Fire MODIS data\n",
    "\n",
    " For each map be sure to:\n",
    "<!-- In a CIR image, the NIR band is plotted on the “red” band, the red band is plotted using green and the green band is plotted using blue. -->\n",
    "* Crop the data to the fire boundary extent\n",
    "* Overlay the fire boundary layer (`vector_layers/fire-boundary-geomac/co_cold_springs_20160711_2200_dd83.shp`).\n",
    "* Use the band combination **r = infrared band**, **g = red band**, **b = green** band.\n",
    "* Be sure to label each plot with the data type (NAIP vs. Landsat vs. MODIS) and spatial resolution.\n",
    "\n",
    "Use this figure to help answer question 1 above.\n",
    "An example of what this plot should look like (without all of the labels that\n",
    "you need to add), is below.\n"
   ]
  },
  {
   "cell_type": "code",
   "execution_count": null,
   "metadata": {
    "hideCode": false,
    "hidePrompt": false,
    "tags": [
     "hide"
    ]
   },
   "outputs": [],
   "source": [
    "\n",
    "# Open fire boundary\n",
    "\n",
    "\n",
    "# Stack MODIS pre and post fire bands\n",
    "\n",
    "# Pre fire MODIS \n",
    "\n",
    "\n",
    "# Open and crop modis data, reproject fire boundary\n",
    "\n",
    "\n",
    "# Post fire\n",
    "\n",
    "\n"
   ]
  },
  {
   "cell_type": "code",
   "execution_count": null,
   "metadata": {
    "hideCode": false,
    "hidePrompt": false,
    "tags": [
     "hide"
    ]
   },
   "outputs": [],
   "source": [
    "# Open stack and crop if necessary the landsat pre/post data\n",
    "# Reproject fire boundary to UTM \n",
    "\n",
    "\n"
   ]
  },
  {
   "cell_type": "code",
   "execution_count": null,
   "metadata": {},
   "outputs": [],
   "source": []
  },
  {
   "cell_type": "code",
   "execution_count": null,
   "metadata": {
    "hideCode": false,
    "hidePrompt": false
   },
   "outputs": [],
   "source": [
    "# Open, crop and process NAIP post fire data \n"
   ]
  },
  {
   "cell_type": "markdown",
   "metadata": {
    "hideCode": false,
    "hidePrompt": false
   },
   "source": [
    "## Homework Plot 1 - Grid of 3 - 3 band CIR plots post fire"
   ]
  },
  {
   "cell_type": "code",
   "execution_count": null,
   "metadata": {
    "hideCode": false,
    "hidePrompt": false
   },
   "outputs": [],
   "source": [
    "# Plot Post Fire NAIP, Landsat & MODIS together\n",
    "\n",
    "fig, (ax1, ax2, ax3) = plt.subplots(3, 1, figsize=(12, 12))\n",
    "\n",
    "\n",
    "\n",
    "plt.tight_layout()"
   ]
  },
  {
   "cell_type": "markdown",
   "metadata": {},
   "source": [
    "## Plot 2 & 3 - Difference NBR (dNBR) Using Landsat  & MODIS Data\n",
    "\n",
    "Create a map of the classified dNBR using Landsat data collected before and\n",
    "after the Cold Springs fire. Overlay the fire extent `vector_layers/fire-boundary-geomac/co_cold_springs_20160711_2200_dd83.shp`\n",
    "on top of the dNBR map. \n",
    "\n",
    "Be sure to use cloud free data.\n",
    "\n",
    "Create the same classified dNBR map using MODIS data before and\n",
    "after the Cold Springs fire. Overlay the fire extent `vector_layers/fire-boundary-geomac/co_cold_springs_20160711_2200_dd83.shp`\n",
    "on top of the dNBR map. \n",
    "\n",
    "\n",
    "Add one legend for both plots that clearly describes each burn \"class\"\n",
    "that you applied using the table provided in the lessons. The classes will be the same values as it is an index.\n",
    "\n",
    "\n",
    "### Landsat Data\n",
    "Use cloud free data that you downloaded for pre fire Landsat calculations. \n",
    "\n",
    "### MODIS Data\n",
    "\n",
    "Crop the MODIS data to the fire boundary extent.\n",
    "\n",
    "#### dNBR burn classes\n",
    "\n",
    "The burn classes that you should use to classify the data are below:\n",
    "\n",
    "\n",
    "Note that depending on how you scaled your data, you may need to scale the\n",
    "values below by a factor of 10.\n",
    "\n",
    "| SEVERITY LEVEL  | | dNBR RANGE |\n",
    "|------------------------------|\n",
    "| Enhanced Regrowth | | < -.1 |\n",
    "| Unburned       |  | -.1 to +.1 |\n",
    "| Low Severity     | | +.1 to +.27 |\n",
    "| Moderate Severity  | | +.27 to +.66 |\n",
    "|===\n",
    "| High Severity     |  | > .66 |\n",
    "\n",
    "****\n",
    "\n",
    "\n",
    "HINT: Your dNBR classification list should look like this:\n",
    "`[-np.inf, -.1, .1, .27, .66, np.inf]`\n",
    "\n",
    "However it may be scalted differently if you scaled your data differently so pay close attention to that when you work on this assignment.\n",
    "\n",
    "HINT 2: If you want to use them, these are the colors used in the maps on the website:\n",
    "\n",
    "`[\"g\", \"yellowgreen\", \"peachpuff\", \"coral\", \"maroon\"]`\n",
    "\n",
    "The colormap to create the plot will thus look like this:\n",
    "\n",
    "```\n",
    "nbr_colors = [\"g\", \"yellowgreen\", \"peachpuff\", \"coral\", \"maroon\"]\n",
    "nbr_cmap = ListedColormap(nbr_colors)\n",
    "```"
   ]
  },
  {
   "cell_type": "code",
   "execution_count": null,
   "metadata": {
    "hideCode": false,
    "hidePrompt": false,
    "tags": [
     "hide"
    ]
   },
   "outputs": [],
   "source": [
    "# Calculate dNBR for Landsat - be sure to use the correct bands!\n",
    "\n",
    "\n",
    "\n"
   ]
  },
  {
   "cell_type": "code",
   "execution_count": null,
   "metadata": {
    "hideCode": false,
    "hidePrompt": false,
    "tags": [
     "hide"
    ]
   },
   "outputs": [],
   "source": [
    "# Calculate MODIS dNBR\n"
   ]
  },
  {
   "cell_type": "markdown",
   "metadata": {
    "hideCode": false,
    "hidePrompt": false
   },
   "source": [
    "## Homework Plot 2 & 3 : Landsat & MODIS Difference Normalized Burn Ratio  dNBR\n",
    "When you plot your MODIS data, you may notice that the data does not contain all of the classes that Landsat contains which could range from 1-5. The code below is an example of how you can subset the data.\n",
    "\n",
    "Using the code below, the `modis_dnbr_class` object is your MODIS dNBR numpy array. You can run the code below to see what this does!\n",
    "\n",
    "`np.arange(2, 4+1,1)`\n",
    "\n",
    "### Plot Legend\n",
    "\n",
    "You only need one legend for this week. The es draw_legend function will create a legend of \"boxes\" if you provide it with an \n",
    "\n",
    "1. `imshow()` image object\n",
    "2. classes : a list of numbers that represent the classes in your numpy array\n",
    "3. titles: a list of class names example: [\"High Severity\", \"Low Severity\"]"
   ]
  },
  {
   "cell_type": "code",
   "execution_count": null,
   "metadata": {
    "hideCode": false,
    "hidePrompt": false
   },
   "outputs": [],
   "source": [
    "# Force bins between all values in reclassified array (so take the range and grab all values in that range)\n",
    "color_indices = np.arange(modis_dnbr_class.min(), modis_dnbr_class.max()+1,1)\n",
    "color_indices\n",
    "\n",
    "# Create colormap for MODIS data\n",
    "ch_colors = [nbr_colors[i] for i in color_indices-1]\n",
    "ch_colors_cmap = ListedColormap(ch_colors)\n"
   ]
  },
  {
   "cell_type": "code",
   "execution_count": null,
   "metadata": {
    "scrolled": true,
    "tags": [
     "hide"
    ]
   },
   "outputs": [],
   "source": [
    "# Plot dNBR using Landsat\n",
    "fig, (ax1,ax2) = plt.subplots(2,1, figsize=(11, 10))\n",
    "\n",
    "es.draw_legend(im=im,\n",
    "               classes=classes, \n",
    "               titles=dnbr_cat_names)\n",
    "\n",
    "\n",
    "\n",
    "ax1.set_axis_off()\n",
    "ax2.set_axis_off()\n",
    "\n",
    "\n",
    "\n",
    "plt.show()"
   ]
  },
  {
   "cell_type": "markdown",
   "metadata": {},
   "source": [
    "# Landsat vs MODIS  Burned Area\n",
    "\n",
    "Below, print the total area burned in classes 4 and 5 (moderate to high severity) for both datasets.\n",
    "\n",
    "HINT: Feel free to experiment with loops to complete this part of the homework. \n"
   ]
  },
  {
   "cell_type": "code",
   "execution_count": null,
   "metadata": {
    "hideCode": false,
    "hidePrompt": false
   },
   "outputs": [],
   "source": [
    "landsat_res = 30*30\n",
    "modis_res = 250*250\n",
    "\n",
    "\n",
    "\n",
    "print(\"Burned Landsat class 4:\")\n",
    "print(\"Burned Landsat class 5:\")\n",
    "print(\"Burned MODIS class 4:\")\n",
    "print(\"Burned MODIS class 5:\")"
   ]
  }
 ],
 "metadata": {
  "celltoolbar": "Tags",
  "hide_code_all_hidden": false,
  "kernelspec": {
   "display_name": "Python [default]",
   "language": "python",
   "name": "python3"
  },
  "language_info": {
   "codemirror_mode": {
    "name": "ipython",
    "version": 3
   },
   "file_extension": ".py",
   "mimetype": "text/x-python",
   "name": "python",
   "nbconvert_exporter": "python",
   "pygments_lexer": "ipython3",
   "version": "3.6.6"
  },
  "toc": {
   "toc_cell": false,
   "toc_number_sections": false,
   "toc_threshold": "2",
   "toc_window_display": false
  }
 },
 "nbformat": 4,
 "nbformat_minor": 2
}
