{
 "cells": [
  {
   "cell_type": "markdown",
   "metadata": {},
   "source": [
    "# Week Two Homework Template\n",
    "\n",
    "This file is the template that you should use to complete your homework for week 2 of the Earth Analytics course.\n",
    "While you do not have to do this, I suggest that you make a copy of this notebook and work on it outside of the repo that you forked and cloned. This will make life easier when you update your repo with the most current homework templates.\n",
    "\n",
    "I will post a new template each week. \n",
    "\n",
    "## Assignment\n",
    "\n",
    "After reviewing the lessons for week 2 of this course on lidar raster data, complete the following plots.\n",
    "\n",
    "### PLOT 1: pre/post CHM difference raster histogram: \n",
    "\n",
    "Create a **cropped** raster map that shows positive and negative change in the canopy height model before and after the flood. To do this:\n",
    "* Subtract the post-flood CHM from the pre-flood CHM (**pre_flood_CHM - post_flood_CHM**).\n",
    "* Crop the data using the `colorado-flood/spatial/boulder-leehill-rd/clip-extent.shp` crop_extent shapefile.\n",
    "* Plot a histogram of the cropped data.\n",
    "\n",
    "### PLOT 2: Classified pre/post CHM difference raster:\n",
    "\n",
    "Use the difference raster that you created above and the histogram as a guide to classify your difference canopy height model. Use values that make sense after reviewing the histogram.\n",
    "        \n",
    "### PLOT 3: pre/post DTM difference raster histogram: \n",
    "\n",
    "Create a cropped raster map that shows positive and negative change in the digital terrain model before and after the flood. To do this:\n",
    "* Subtract the post-flood DTM from the pre-flood DTM (**pre_flood_DTM - post_flood_DTM**).\n",
    "* Crop the data using the data/colorado-flood/spatial/boulder-leehill-rd/clip-extent.shp` crop_extent shapefile.\n",
    "* Plot a histogram of the cropped data.\n",
    "\n",
    "### PLOT 4: Classified pre/post DTM difference raster:  \n",
    "\n",
    "Use the difference raster that you created above and the histogram as a guide to classify your difference digital terrain model. Use values that make sense after reviewing the histogram.\n",
    "\n",
    "### Additional Explanation Of Each Plot\n",
    "\n",
    "In your notebook, create Markdown cells below each plot that describes:\n",
    "\n",
    "1. For histograms - How and why you selected the bins that you did to produce the histogram\n",
    "2. For raster plots - What your classification map shows about changes in the landscape before and after the flood.\n",
    "\n",
    "Be sure to spell check and proof your text before submitting!\n",
    "\n",
    "### Important:\n",
    "\n",
    "* Clearly state the source of each dataset that you use to create the plot either as a plot label or in a caption below the plot\n",
    "* Make sure each plot has a clear TITLE and, where appropriate, label the x and y axes. Be sure to include UNITS in your labels!\n",
    "* Analyze / interpret what each plot shows in a Markdown cell in your notebook. State what the source of the data are and what the plot shows as a driver or impact of the 2013 flood events.\n",
    "* Clearly document that steps that you took to process the data by commenting your code\n",
    "* Use clean coding practices - this includes comments, variable names that are informative, clean code spacing, following PEP 8 Python code style guide.\n",
    "* Make sure all of the libraries that you use in the report are listed in a code cell at the TOP of your Notebook.\n",
    "* Spell check your Notebook before submitting it.\n",
    "* Include a Markdown cell for each histogram that briefly describes how you selected the classification values used in the raster plots referencing the histograms of the data that you create.\n",
    "\n",
    "****\n",
    "\n",
    "Be sure to carefully review the grading rubric in Canvas prior to submitting this assignment. You will be graded on code style, notebook organization, comments and more. Carefully review the rubric PRIOR to submitting this assignment to ensure you've completed all requirements!\n",
    "\n",
    "You may place code above and below each required plot cell below (i.e. you can add cells to this notebook). Please only include the code required to actually draw the plot in each commented plot cell below (i.e. leave the existing comments in the cell and add your plot code to the cell). Below each plot cell please add your Markdown text describing each plot as specified in the assignment on Canvas."
   ]
  },
  {
   "cell_type": "code",
   "execution_count": 5,
   "metadata": {
    "collapsed": true
   },
   "outputs": [],
   "source": [
    "# Add as many code cells as you like"
   ]
  },
  {
   "cell_type": "code",
   "execution_count": null,
   "metadata": {
    "collapsed": true
   },
   "outputs": [],
   "source": [
    "## Place use this cell and create any additional cells that you wish to \n",
    "## import and process the data needed to create the plots below."
   ]
  },
  {
   "cell_type": "code",
   "execution_count": null,
   "metadata": {
    "collapsed": true
   },
   "outputs": [],
   "source": [
    "### PLOT 1: pre/post CHM difference raster histogram\n",
    "### place your plot 1 code here"
   ]
  },
  {
   "cell_type": "code",
   "execution_count": null,
   "metadata": {
    "collapsed": true
   },
   "outputs": [],
   "source": [
    "### PLOT 2: Classified pre/post CHM difference raster\n",
    "### place your plot 2 code here"
   ]
  },
  {
   "cell_type": "code",
   "execution_count": null,
   "metadata": {
    "collapsed": true
   },
   "outputs": [],
   "source": [
    "### PLOT 3: pre/post DTM difference raster histogram\n",
    "### Place your plot 3 code here"
   ]
  },
  {
   "cell_type": "code",
   "execution_count": 8,
   "metadata": {},
   "outputs": [],
   "source": [
    "### PLOT 4: Classified pre/post DTM difference raster:  \n",
    "### Use the difference raster that you created above and the histogram as a guide to \n",
    "### classify your difference digital terrain model. Use values that make sense after reviewing the histogram.\n"
   ]
  }
 ],
 "metadata": {
  "kernelspec": {
   "display_name": "Python [default]",
   "language": "python",
   "name": "python3"
  },
  "language_info": {
   "codemirror_mode": {
    "name": "ipython",
    "version": 3
   },
   "file_extension": ".py",
   "mimetype": "text/x-python",
   "name": "python",
   "nbconvert_exporter": "python",
   "pygments_lexer": "ipython3",
   "version": "3.6.6"
  }
 },
 "nbformat": 4,
 "nbformat_minor": 2
}
