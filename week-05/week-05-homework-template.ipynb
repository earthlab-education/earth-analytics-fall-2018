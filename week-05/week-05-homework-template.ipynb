{
 "cells": [
  {
   "cell_type": "markdown",
   "metadata": {},
   "source": [
    "## Homework Template - Week 05\n",
    "\n",
    "Create a new `Jupyter notebook`. Name it: **lastName-firstInitial-week5.ipynb**\n",
    "Within your `notebook` document, write the code needed to create the plots listed below. \n",
    "Be sure to name your files as instructed! Submit a `.ipynb` file and a `.html` file with your output to Canvas.\n",
    "Please do not zip up your files in Canvas. \n",
    "\n",
    "\n",
    "## Use the template below\n",
    "The template below will help your organize your homework. You don't have to follow the commented guidelines but I highly suggest that you do for readibility!\n",
    "\n",
    "\n",
    "\n",
    "### IMPORTANT: For All Plots\n",
    "* Label x and y axes appropriately - include units\n",
    "* Add a title to your plot that describes what the plot shows\n",
    "* Add a brief, 1-3 sentence caption below each plot that describes what it shows.\n"
   ]
  },
  {
   "cell_type": "markdown",
   "metadata": {},
   "source": [
    "#### Plots 1 - 4: Scatterplots With Regression & a 1:1 Line\n",
    "\n",
    "For both the SJER and SOAP field sites, create scatter plots that compare:\n",
    "\n",
    "* **MAXIMUM** canopy height model height in meters, extracted within a 20 meter radius, compared to **MAXIMUM** tree\n",
    "height derived from the *insitu* field site data.\n",
    "* **MEAN** canopy height model height in meters, extracted within a 20 meter radius, compared to **MEAN** tree height derived from the *insitu* field site data.\n",
    "\n",
    "For each of these plots be sure to:\n",
    "\n",
    "1. Place lidar data values on the X axis and human measured tree height on the Y axis\n",
    "2. Include a calculated **regression line** (HINT use `sns.plot()` to achieve this line) that describes the relationship of lidar of the data\n",
    "3. Include a separate **1:1 line** that can be used to compare the regression fit to a perfect 1:1 fit. \n",
    "4. Set the x and y limits to be the SAME for each individual plot. This means that for plot 3 the x and y limits are the same. For plot 4 the x and y limits are the same. NOTE: You may have different limits for each plot depending on the data being rendered. Thus plot 3 x and plot 3 y axis may be the same. But plot 3 x axis does NOT need to be the same as plot 4 x axis. \n",
    "5. Plot the SJER plots within one figure using two ax elements (ax1, ax2) \n",
    "6. Plot the SOAP plots within one figure using two ax elements (ax1, ax2) \n",
    "\n",
    "HINT: the SOAP data have some inconsistencies in the column headings. One way to fix this is to use the syntax:\n",
    "\n",
    "`\"text-to-append-to-column\" + dataframe_name[\"column-name-here\"]`\n"
   ]
  },
  {
   "cell_type": "code",
   "execution_count": null,
   "metadata": {},
   "outputs": [],
   "source": [
    "# Import required libraries here"
   ]
  },
  {
   "cell_type": "code",
   "execution_count": null,
   "metadata": {},
   "outputs": [],
   "source": [
    "# Import SJER plot locations & insitu data\n",
    "\n"
   ]
  },
  {
   "cell_type": "code",
   "execution_count": null,
   "metadata": {},
   "outputs": [],
   "source": [
    "## SJER Data -- Import lidar chm, run zonal stats on data\n",
    "\n"
   ]
  },
  {
   "cell_type": "code",
   "execution_count": null,
   "metadata": {},
   "outputs": [],
   "source": [
    "# SJER -- Calculate mean and max from insitu data (csv file)\n",
    "\n"
   ]
  },
  {
   "cell_type": "markdown",
   "metadata": {},
   "source": [
    "## Part 1 | Plots 1 & 2 - SJER Lidar vs Insitu Comparison Plots\n",
    "\n",
    "1-3 sentences that describe what the plots below show"
   ]
  },
  {
   "cell_type": "code",
   "execution_count": null,
   "metadata": {
    "caption": "Plots of lidar min and max vs insitu min and max with a 1:1 line a regression fit for the NEON SJER field site."
   },
   "outputs": [],
   "source": [
    "# Plot 1 & 2 - SJER  min and max - plot code only in this cell\n",
    "\n",
    "fig, (ax1, ax2) = plt.subplots(2, 1, figsize=(7, 14))\n",
    "\n",
    "\n",
    "\n",
    "plt.show()"
   ]
  },
  {
   "cell_type": "code",
   "execution_count": null,
   "metadata": {},
   "outputs": [],
   "source": [
    "# Import SOAP plot locations & insitu data\n",
    "\n"
   ]
  },
  {
   "cell_type": "code",
   "execution_count": null,
   "metadata": {},
   "outputs": [],
   "source": [
    "## SOAP Data -- Import lidar chm, run zonal stats on data\n",
    "\n"
   ]
  },
  {
   "cell_type": "code",
   "execution_count": null,
   "metadata": {},
   "outputs": [],
   "source": [
    "# SOAP -- Calculate mean and max from insitu data (csv file), rename columns,\n"
   ]
  },
  {
   "cell_type": "markdown",
   "metadata": {},
   "source": [
    "## Plots 3 & 4 - SJER Lidar vs Insitu Comparison Plots\n",
    "\n",
    "1-3 sentences that describe what the plots below show"
   ]
  },
  {
   "cell_type": "code",
   "execution_count": null,
   "metadata": {
    "caption": "Plots of lidar min and max vs insitu min and max with a 1:1 line a regression fit for the NEON SOAP field site."
   },
   "outputs": [],
   "source": [
    "# Plot Code only for HW Plots 3 & 4 Here  \n",
    "fig, (ax1, ax2) = plt.subplots(2, 1, figsize=(7, 14))\n",
    "\n",
    "\n",
    "\n",
    "\n",
    "plt.show()"
   ]
  },
  {
   "cell_type": "markdown",
   "metadata": {},
   "source": [
    "### Part 2 - Calculated Regression Fit \n",
    "\n",
    "The above plots show the regression fit as calculated by the `seaborn` python package. Use stats.linregression() to calculate the slope and intercept of the regresion fit for each of the plots above. \n",
    "\n",
    "Print the outputs below. \n"
   ]
  },
  {
   "cell_type": "code",
   "execution_count": null,
   "metadata": {
    "tags": [
     "hide"
    ]
   },
   "outputs": [],
   "source": [
    "## SJER Saddle - Regression Values - calculate and print here using stats.linregress()\n"
   ]
  },
  {
   "cell_type": "code",
   "execution_count": null,
   "metadata": {
    "tags": [
     "hide"
    ]
   },
   "outputs": [],
   "source": [
    "## SOAP - Regression Values - calculate and print here using stats.linregress()\n",
    "\n"
   ]
  },
  {
   "cell_type": "markdown",
   "metadata": {},
   "source": [
    "\n",
    "#### 1. Of all four relationships that you plotted above, which was the strongest?\n",
    "\n",
    "\n",
    "Your answer here - 2-5 sentences justifying your answer"
   ]
  },
  {
   "cell_type": "markdown",
   "metadata": {},
   "source": [
    "## Is Mean of Max Height A Closer Comparison?\n",
    "\n",
    "#### 2. List 2 reasons why lidar max height values may be larger than (over estimate) human measurements.\n",
    "\n",
    "Your answer here"
   ]
  },
  {
   "cell_type": "markdown",
   "metadata": {},
   "source": [
    "#### 3. List 2 reasons why lidar mean height values may be smaller than (underestimate) human measurements.\n",
    "\n",
    "Your answer here"
   ]
  },
  {
   "cell_type": "markdown",
   "metadata": {},
   "source": [
    "#### 4. List 2 systematic sources of error could impact differences between lidar and measured tree height values. \n",
    "\n",
    "Your answer here"
   ]
  },
  {
   "cell_type": "markdown",
   "metadata": {},
   "source": [
    "#### 5. List 2 random sources of error that could impact differences between lidar and measured tree height values. \n",
    "\n",
    "Your answer here"
   ]
  }
 ],
 "metadata": {
  "celltoolbar": "Tags",
  "kernelspec": {
   "display_name": "Python [conda env:earth-analytics-python]",
   "language": "python",
   "name": "conda-env-earth-analytics-python-py"
  },
  "language_info": {
   "codemirror_mode": {
    "name": "ipython",
    "version": 3
   },
   "file_extension": ".py",
   "mimetype": "text/x-python",
   "name": "python",
   "nbconvert_exporter": "python",
   "pygments_lexer": "ipython3",
   "version": "3.6.6"
  }
 },
 "nbformat": 4,
 "nbformat_minor": 2
}
