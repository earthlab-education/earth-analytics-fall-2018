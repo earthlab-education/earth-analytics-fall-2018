{
 "cells": [
  {
   "cell_type": "code",
   "execution_count": 1,
   "metadata": {},
   "outputs": [],
   "source": [
    "# Import libraries\n",
    "import os\n",
    "import numpy as np\n",
    "import matplotlib.pyplot as plt\n",
    "import pandas as pd\n",
    "import rasterio as rio\n",
    "from rasterio.plot import plotting_extent\n",
    "import geopandas as gpd\n",
    "# Zonals stats packages\n",
    "import rasterstats as rs\n",
    "import earthpy as et\n",
    "\n",
    "os.chdir(os.path.join(et.io.HOME, \"earth-analytics\"))"
   ]
  },
  {
   "cell_type": "markdown",
   "metadata": {},
   "source": [
    "## Import Canopy Height Model\n",
    " "
   ]
  },
  {
   "cell_type": "code",
   "execution_count": 32,
   "metadata": {},
   "outputs": [
    {
     "data": {
      "text/plain": [
       "{'driver': 'GTiff', 'dtype': 'float32', 'nodata': -9999.0, 'width': 4296, 'height': 5059, 'count': 1, 'crs': CRS({'init': 'epsg:32611'}), 'transform': Affine(1.0, 0.0, 254571.0,\n",
       "       0.0, -1.0, 4112362.0), 'tiled': False, 'compress': 'lzw', 'interleave': 'band'}"
      ]
     },
     "execution_count": 32,
     "metadata": {},
     "output_type": "execute_result"
    }
   ],
   "source": [
    "sjer_chm_path = \"data/spatial-vector-lidar/california/neon-sjer-site/2013/lidar/SJER_lidarCHM.tif\"\n",
    "\n",
    "with rio.open(sjer_chm_path) as sjer_lidar_chm_src:\n",
    "    sjer_chm_data = sjer_lidar_chm_src.read(1, masked=True)\n",
    "    # Create metadata object to view later\n",
    "    sjer_chm_data_meta = sjer_lidar_chm_src.profile\n",
    "    sjer_plot_extent = plotting_extent(sjer_lidar_chm_src)\n",
    "\n",
    "sjer_chm_data.shape\n",
    "# view metadata \n",
    "sjer_chm_data_meta"
   ]
  },
  {
   "cell_type": "markdown",
   "metadata": {},
   "source": [
    "## Plot a histogram"
   ]
  },
  {
   "cell_type": "code",
   "execution_count": 18,
   "metadata": {},
   "outputs": [
    {
     "data": {
      "image/png": "[encoded data removed]",
      "text/plain": [
       "<Figure size 432x288 with 1 Axes>"
      ]
     },
     "metadata": {
      "needs_background": "light"
     },
     "output_type": "display_data"
    }
   ],
   "source": [
    "fig, ax = plt.subplots(figsize=(6,4))\n",
    "ax.hist(sjer_chm_data.ravel(), color=\"purple\")\n",
    "plt.show()"
   ]
  },
  {
   "cell_type": "code",
   "execution_count": 23,
   "metadata": {},
   "outputs": [
    {
     "data": {
      "image/png": "[encoded data removed]",
      "text/plain": [
       "<Figure size 432x288 with 1 Axes>"
      ]
     },
     "metadata": {
      "needs_background": "light"
     },
     "output_type": "display_data"
    }
   ],
   "source": [
    "# Set all values ==0 to na (no data) \n",
    "# as 0s will bring down our summary mean values\n",
    "sjer_chm_data[sjer_chm_data == 0] = np.nan\n",
    "# Remove na values from the array\n",
    "# Only perform this step for the histogram! \n",
    "# Not needed for your data processing\n",
    "sjer_chm_data_no_na = sjer_chm_data[~np.isnan(sjer_chm_data)]\n",
    "\n",
    "fig, ax = plt.subplots(figsize=(6,4))\n",
    "ax.hist(sjer_chm_data_no_na.ravel(), color=\"purple\")\n",
    "plt.show()"
   ]
  },
  {
   "cell_type": "markdown",
   "metadata": {},
   "source": [
    "## Import The Plot Location Data"
   ]
  },
  {
   "cell_type": "code",
   "execution_count": 29,
   "metadata": {},
   "outputs": [
    {
     "data": {
      "text/html": [
       "<div>\n",
       "<style scoped>\n",
       "    .dataframe tbody tr th:only-of-type {\n",
       "        vertical-align: middle;\n",
       "    }\n",
       "\n",
       "    .dataframe tbody tr th {\n",
       "        vertical-align: top;\n",
       "    }\n",
       "\n",
       "    .dataframe thead th {\n",
       "        text-align: right;\n",
       "    }\n",
       "</style>\n",
       "<table border=\"1\" class=\"dataframe\">\n",
       "  <thead>\n",
       "    <tr style=\"text-align: right;\">\n",
       "      <th></th>\n",
       "      <th>Plot_ID</th>\n",
       "      <th>Point</th>\n",
       "      <th>northing</th>\n",
       "      <th>easting</th>\n",
       "      <th>plot_type</th>\n",
       "      <th>geometry</th>\n",
       "    </tr>\n",
       "  </thead>\n",
       "  <tbody>\n",
       "    <tr>\n",
       "      <th>0</th>\n",
       "      <td>SJER1068</td>\n",
       "      <td>center</td>\n",
       "      <td>4111567.818</td>\n",
       "      <td>255852.376</td>\n",
       "      <td>trees</td>\n",
       "      <td>POINT (255852.376 4111567.818)</td>\n",
       "    </tr>\n",
       "    <tr>\n",
       "      <th>1</th>\n",
       "      <td>SJER112</td>\n",
       "      <td>center</td>\n",
       "      <td>4111298.971</td>\n",
       "      <td>257406.967</td>\n",
       "      <td>trees</td>\n",
       "      <td>POINT (257406.967 4111298.971)</td>\n",
       "    </tr>\n",
       "    <tr>\n",
       "      <th>2</th>\n",
       "      <td>SJER116</td>\n",
       "      <td>center</td>\n",
       "      <td>4110819.876</td>\n",
       "      <td>256838.760</td>\n",
       "      <td>grass</td>\n",
       "      <td>POINT (256838.76 4110819.876)</td>\n",
       "    </tr>\n",
       "  </tbody>\n",
       "</table>\n",
       "</div>"
      ],
      "text/plain": [
       "    Plot_ID   Point     northing     easting plot_type  \\\n",
       "0  SJER1068  center  4111567.818  255852.376     trees   \n",
       "1   SJER112  center  4111298.971  257406.967     trees   \n",
       "2   SJER116  center  4110819.876  256838.760     grass   \n",
       "\n",
       "                         geometry  \n",
       "0  POINT (255852.376 4111567.818)  \n",
       "1  POINT (257406.967 4111298.971)  \n",
       "2   POINT (256838.76 4110819.876)  "
      ]
     },
     "execution_count": 29,
     "metadata": {},
     "output_type": "execute_result"
    }
   ],
   "source": [
    "sjer_centroids_path = \"data/spatial-vector-lidar/california/neon-sjer-site/vector_data/SJER_plot_centroids.shp\"\n",
    "sjer_plot_points = gpd.read_file(sjer_centroids_path)\n",
    "sjer_plot_points.head(3)"
   ]
  },
  {
   "cell_type": "code",
   "execution_count": 34,
   "metadata": {},
   "outputs": [
    {
     "data": {
      "image/png": "[encoded data removed]",
      "text/plain": [
       "<Figure size 432x432 with 1 Axes>"
      ]
     },
     "metadata": {
      "needs_background": "light"
     },
     "output_type": "display_data"
    }
   ],
   "source": [
    "# overlay the points on top of the raster chm file \n",
    "fig, ax = plt.subplots(figsize=(6,6))\n",
    "# Plot a RASTER layer which is an IMAGE using imshow\n",
    "ax.imshow(sjer_chm_data,\n",
    "         cmap=\"Greys\",\n",
    "         extent=sjer_plot_extent)\n",
    "# Plot a geopandas VECTOR layer which is a (shapefile in this case)\n",
    "sjer_plot_points.plot(ax=ax,\n",
    "                     color=\"purple\")\n",
    "plt.show()"
   ]
  },
  {
   "cell_type": "markdown",
   "metadata": {},
   "source": [
    "# Buffer the points to make a polygon "
   ]
  },
  {
   "cell_type": "code",
   "execution_count": 37,
   "metadata": {},
   "outputs": [],
   "source": [
    "# Buffer the points\n",
    "sjer_plots_poly = sjer_plot_points.copy()\n",
    "sjer_plots_poly[\"geometry\"] = sjer_plot_points.geometry.buffer(20)\n",
    "sjer_plots_poly\n",
    "\n",
    "# Export data as a shapefile\n",
    "plot_buffer_path = \"data/spatial-vector-lidar/outputs/sjer_plot_buffer.shp\"\n",
    "sjer_plots_poly.to_file(plot_buffer_path)\n"
   ]
  },
  {
   "cell_type": "code",
   "execution_count": 54,
   "metadata": {},
   "outputs": [
    {
     "data": {
      "text/html": [
       "<div>\n",
       "<style scoped>\n",
       "    .dataframe tbody tr th:only-of-type {\n",
       "        vertical-align: middle;\n",
       "    }\n",
       "\n",
       "    .dataframe tbody tr th {\n",
       "        vertical-align: top;\n",
       "    }\n",
       "\n",
       "    .dataframe thead th {\n",
       "        text-align: right;\n",
       "    }\n",
       "</style>\n",
       "<table border=\"1\" class=\"dataframe\">\n",
       "  <thead>\n",
       "    <tr style=\"text-align: right;\">\n",
       "      <th></th>\n",
       "      <th>Plot_ID</th>\n",
       "      <th>Point</th>\n",
       "      <th>easting</th>\n",
       "      <th>geometry</th>\n",
       "      <th>max</th>\n",
       "      <th>mean</th>\n",
       "      <th>northing</th>\n",
       "      <th>plot_type</th>\n",
       "    </tr>\n",
       "  </thead>\n",
       "  <tbody>\n",
       "    <tr>\n",
       "      <th>0</th>\n",
       "      <td>SJER1068</td>\n",
       "      <td>center</td>\n",
       "      <td>255852.376</td>\n",
       "      <td>POLYGON ((255872.376 4111567.818, 255872.27969...</td>\n",
       "      <td>19.049999</td>\n",
       "      <td>11.544348</td>\n",
       "      <td>4111567.818</td>\n",
       "      <td>trees</td>\n",
       "    </tr>\n",
       "    <tr>\n",
       "      <th>1</th>\n",
       "      <td>SJER112</td>\n",
       "      <td>center</td>\n",
       "      <td>257406.967</td>\n",
       "      <td>POLYGON ((257426.967 4111298.971, 257426.87069...</td>\n",
       "      <td>24.019999</td>\n",
       "      <td>10.369277</td>\n",
       "      <td>4111298.971</td>\n",
       "      <td>trees</td>\n",
       "    </tr>\n",
       "    <tr>\n",
       "      <th>2</th>\n",
       "      <td>SJER116</td>\n",
       "      <td>center</td>\n",
       "      <td>256838.760</td>\n",
       "      <td>POLYGON ((256858.76 4110819.876, 256858.663694...</td>\n",
       "      <td>16.070000</td>\n",
       "      <td>7.518398</td>\n",
       "      <td>4110819.876</td>\n",
       "      <td>grass</td>\n",
       "    </tr>\n",
       "    <tr>\n",
       "      <th>3</th>\n",
       "      <td>SJER117</td>\n",
       "      <td>center</td>\n",
       "      <td>256176.947</td>\n",
       "      <td>POLYGON ((256196.947 4108752.026, 256196.85069...</td>\n",
       "      <td>11.059999</td>\n",
       "      <td>7.675347</td>\n",
       "      <td>4108752.026</td>\n",
       "      <td>trees</td>\n",
       "    </tr>\n",
       "    <tr>\n",
       "      <th>4</th>\n",
       "      <td>SJER120</td>\n",
       "      <td>center</td>\n",
       "      <td>255968.372</td>\n",
       "      <td>POLYGON ((255988.372 4110476.079, 255988.27569...</td>\n",
       "      <td>5.740000</td>\n",
       "      <td>4.591176</td>\n",
       "      <td>4110476.079</td>\n",
       "      <td>grass</td>\n",
       "    </tr>\n",
       "  </tbody>\n",
       "</table>\n",
       "</div>"
      ],
      "text/plain": [
       "    Plot_ID   Point     easting  \\\n",
       "0  SJER1068  center  255852.376   \n",
       "1   SJER112  center  257406.967   \n",
       "2   SJER116  center  256838.760   \n",
       "3   SJER117  center  256176.947   \n",
       "4   SJER120  center  255968.372   \n",
       "\n",
       "                                            geometry        max       mean  \\\n",
       "0  POLYGON ((255872.376 4111567.818, 255872.27969...  19.049999  11.544348   \n",
       "1  POLYGON ((257426.967 4111298.971, 257426.87069...  24.019999  10.369277   \n",
       "2  POLYGON ((256858.76 4110819.876, 256858.663694...  16.070000   7.518398   \n",
       "3  POLYGON ((256196.947 4108752.026, 256196.85069...  11.059999   7.675347   \n",
       "4  POLYGON ((255988.372 4110476.079, 255988.27569...   5.740000   4.591176   \n",
       "\n",
       "      northing plot_type  \n",
       "0  4111567.818     trees  \n",
       "1  4111298.971     trees  \n",
       "2  4110819.876     grass  \n",
       "3  4108752.026     trees  \n",
       "4  4110476.079     grass  "
      ]
     },
     "execution_count": 54,
     "metadata": {},
     "output_type": "execute_result"
    }
   ],
   "source": [
    "# Run zonal stats \n",
    "sjer_lidar_tree_heights = rs.zonal_stats(plot_buffer_path,\n",
    "                                        sjer_chm_data,\n",
    "                                        affine=sjer_chm_data_meta[\"transform\"],\n",
    "                                        geojson_out=True,\n",
    "                                        copy_properties=True,\n",
    "                                        nodata=0, \n",
    "                                        stats=[\"mean\", \"max\"])\n",
    "type(sjer_lidar_tree_heights)\n",
    "# conver the list output to a geodataframe\n",
    "\n",
    "sjer_lidar_height_df = gpd.GeoDataFrame.from_features(sjer_lidar_tree_heights)\n",
    "sjer_lidar_height_df.head()"
   ]
  },
  {
   "cell_type": "markdown",
   "metadata": {},
   "source": [
    "## Compare Human Measured Tree Heights"
   ]
  },
  {
   "cell_type": "code",
   "execution_count": 61,
   "metadata": {},
   "outputs": [
    {
     "data": {
      "text/html": [
       "<div>\n",
       "<style scoped>\n",
       "    .dataframe tbody tr th:only-of-type {\n",
       "        vertical-align: middle;\n",
       "    }\n",
       "\n",
       "    .dataframe tbody tr th {\n",
       "        vertical-align: top;\n",
       "    }\n",
       "\n",
       "    .dataframe thead th {\n",
       "        text-align: right;\n",
       "    }\n",
       "</style>\n",
       "<table border=\"1\" class=\"dataframe\">\n",
       "  <thead>\n",
       "    <tr style=\"text-align: right;\">\n",
       "      <th></th>\n",
       "      <th>siteid</th>\n",
       "      <th>sitename</th>\n",
       "      <th>plotid</th>\n",
       "      <th>stemheight</th>\n",
       "    </tr>\n",
       "  </thead>\n",
       "  <tbody>\n",
       "    <tr>\n",
       "      <th>0</th>\n",
       "      <td>SJER</td>\n",
       "      <td>San Joaquin</td>\n",
       "      <td>SJER128</td>\n",
       "      <td>18.2</td>\n",
       "    </tr>\n",
       "    <tr>\n",
       "      <th>1</th>\n",
       "      <td>SJER</td>\n",
       "      <td>San Joaquin</td>\n",
       "      <td>SJER2796</td>\n",
       "      <td>3.3</td>\n",
       "    </tr>\n",
       "    <tr>\n",
       "      <th>2</th>\n",
       "      <td>SJER</td>\n",
       "      <td>San Joaquin</td>\n",
       "      <td>SJER272</td>\n",
       "      <td>1.7</td>\n",
       "    </tr>\n",
       "    <tr>\n",
       "      <th>3</th>\n",
       "      <td>SJER</td>\n",
       "      <td>San Joaquin</td>\n",
       "      <td>SJER112</td>\n",
       "      <td>2.1</td>\n",
       "    </tr>\n",
       "    <tr>\n",
       "      <th>4</th>\n",
       "      <td>SJER</td>\n",
       "      <td>San Joaquin</td>\n",
       "      <td>SJER272</td>\n",
       "      <td>3.0</td>\n",
       "    </tr>\n",
       "  </tbody>\n",
       "</table>\n",
       "</div>"
      ],
      "text/plain": [
       "  siteid     sitename    plotid  stemheight\n",
       "0   SJER  San Joaquin   SJER128        18.2\n",
       "1   SJER  San Joaquin  SJER2796         3.3\n",
       "2   SJER  San Joaquin   SJER272         1.7\n",
       "3   SJER  San Joaquin   SJER112         2.1\n",
       "4   SJER  San Joaquin   SJER272         3.0"
      ]
     },
     "execution_count": 61,
     "metadata": {},
     "output_type": "execute_result"
    }
   ],
   "source": [
    "# Import the csv of human measured (insitu) tree height data\n",
    "path_insitu = \"data/spatial-vector-lidar/california/neon-sjer-site/2013/insitu/veg_structure/D17_2013_SJER_vegStr.csv\"\n",
    "sjer_insitu_all = pd.read_csv(path_insitu)\n",
    "sjer_insitu_all.columns\n",
    "\n",
    "# Keep only the needed columns\n",
    "sjer_insitu = sjer_insitu_all[[\"siteid\",\"sitename\",\"plotid\",\"stemheight\"]]\n",
    "sjer_insitu.head()"
   ]
  },
  {
   "cell_type": "code",
   "execution_count": 73,
   "metadata": {},
   "outputs": [
    {
     "data": {
      "text/html": [
       "<div>\n",
       "<style scoped>\n",
       "    .dataframe tbody tr th:only-of-type {\n",
       "        vertical-align: middle;\n",
       "    }\n",
       "\n",
       "    .dataframe tbody tr th {\n",
       "        vertical-align: top;\n",
       "    }\n",
       "\n",
       "    .dataframe thead th {\n",
       "        text-align: right;\n",
       "    }\n",
       "</style>\n",
       "<table border=\"1\" class=\"dataframe\">\n",
       "  <thead>\n",
       "    <tr style=\"text-align: right;\">\n",
       "      <th></th>\n",
       "      <th>plotid</th>\n",
       "      <th>mean</th>\n",
       "      <th>max</th>\n",
       "    </tr>\n",
       "  </thead>\n",
       "  <tbody>\n",
       "    <tr>\n",
       "      <th>0</th>\n",
       "      <td>SJER1068</td>\n",
       "      <td>3.866667</td>\n",
       "      <td>19.3</td>\n",
       "    </tr>\n",
       "    <tr>\n",
       "      <th>1</th>\n",
       "      <td>SJER112</td>\n",
       "      <td>8.221429</td>\n",
       "      <td>23.9</td>\n",
       "    </tr>\n",
       "    <tr>\n",
       "      <th>2</th>\n",
       "      <td>SJER116</td>\n",
       "      <td>8.218750</td>\n",
       "      <td>16.0</td>\n",
       "    </tr>\n",
       "    <tr>\n",
       "      <th>3</th>\n",
       "      <td>SJER117</td>\n",
       "      <td>6.512500</td>\n",
       "      <td>11.0</td>\n",
       "    </tr>\n",
       "    <tr>\n",
       "      <th>4</th>\n",
       "      <td>SJER120</td>\n",
       "      <td>7.600000</td>\n",
       "      <td>8.8</td>\n",
       "    </tr>\n",
       "  </tbody>\n",
       "</table>\n",
       "</div>"
      ],
      "text/plain": [
       "     plotid      mean   max\n",
       "0  SJER1068  3.866667  19.3\n",
       "1   SJER112  8.221429  23.9\n",
       "2   SJER116  8.218750  16.0\n",
       "3   SJER117  6.512500  11.0\n",
       "4   SJER120  7.600000   8.8"
      ]
     },
     "execution_count": 73,
     "metadata": {},
     "output_type": "execute_result"
    }
   ],
   "source": [
    "# Get mean and max tree height for each plot\n",
    "insitu_stem_ht = sjer_insitu.groupby(\"plotid\").agg([\"mean\",\"max\"])[\"stemheight\"]\n",
    "insitu_stem_ht = insitu_stem_ht.reset_index()\n",
    "insitu_stem_ht.head()"
   ]
  },
  {
   "cell_type": "code",
   "execution_count": 76,
   "metadata": {},
   "outputs": [],
   "source": [
    "# Merge the lidar df with the insitu by the plot id\n",
    "\n",
    "sjer_final_height = sjer_lidar_height_df.merge(insitu_stem_ht,\n",
    "                          left_on=\"Plot_ID\",\n",
    "                          right_on=\"plotid\")"
   ]
  },
  {
   "cell_type": "code",
   "execution_count": null,
   "metadata": {},
   "outputs": [],
   "source": []
  },
  {
   "cell_type": "code",
   "execution_count": null,
   "metadata": {},
   "outputs": [],
   "source": []
  }
 ],
 "metadata": {
  "kernelspec": {
   "display_name": "Python [conda env:earth-analytics-python]",
   "language": "python",
   "name": "conda-env-earth-analytics-python-py"
  },
  "language_info": {
   "codemirror_mode": {
    "name": "ipython",
    "version": 3
   },
   "file_extension": ".py",
   "mimetype": "text/x-python",
   "name": "python",
   "nbconvert_exporter": "python",
   "pygments_lexer": "ipython3",
   "version": "3.6.6"
  }
 },
 "nbformat": 4,
 "nbformat_minor": 2
}
