{
 "cells": [
  {
   "cell_type": "markdown",
   "metadata": {},
   "source": [
    "# Week 3 Time Series Data Homework Template\n",
    "\n"
   ]
  },
  {
   "cell_type": "markdown",
   "metadata": {},
   "source": [
    "## PLOT 1 \n",
    "\n",
    "Use pandas to open and process the `data/colorado-flood/discharge/06730200-discharge-daily-1986-2013.txt` txt file. Using this data, create a plot of **monthly maximum stream discharge from 1990-2014**. \n",
    "Document your steps used to process the data in a markdown cell BELOW the plot\n",
    "use pandas, make sure the dataframe has a datetime index\n",
    "calculate a monthly max value\n",
    " \n",
    "Subset the data to the time period: 1990-2014 using pandas syntax [\"\":\"\"]. This means that your date column should be setup as an index."
   ]
  },
  {
   "cell_type": "code",
   "execution_count": null,
   "metadata": {},
   "outputs": [],
   "source": [
    "## "
   ]
  },
  {
   "cell_type": "code",
   "execution_count": null,
   "metadata": {},
   "outputs": [],
   "source": [
    "## place plot code in this cell"
   ]
  },
  {
   "cell_type": "markdown",
   "metadata": {},
   "source": [
    "## PLOT 2\n",
    "\n",
    "Use pandas to open and process the `data/colorado-flood/discharge/06730200-discharge-daily-1986-2013.txt` txt file. Using this data, create a plot of daily maximum stream discharge from **Aug 01, 2013 to October 01, 2013**. Document your steps used to process the data in a markdown cell BELOW the plot use pandas, make sure the dataframe has a datetime index calculate a monthly max value\n",
    "\n",
    "Subset the data temporally (by time) using pandas syntax `[\"\":\"\"]`. This means that your date column should be setup as an index in pandas."
   ]
  },
  {
   "cell_type": "code",
   "execution_count": null,
   "metadata": {},
   "outputs": [],
   "source": []
  },
  {
   "cell_type": "markdown",
   "metadata": {},
   "source": [
    "## Plot 3\n",
    "Use the `data/precipitation/805333-precip-daily-1948-2013.csv` file to create a plot of total (sum) monthly precipitation from 1990 to 2014.\n",
    "\n",
    "Subset the data using pandas syntax `[\"\":\"\"]`. This means that your date column should be setup as an index.\n",
    "* label the x and y axis of your plot with appropriate units\n",
    "* Make sure the date labels on your x-axis are easily readable"
   ]
  },
  {
   "cell_type": "code",
   "execution_count": null,
   "metadata": {},
   "outputs": [],
   "source": []
  },
  {
   "cell_type": "markdown",
   "metadata": {},
   "source": [
    "## Plot 4: \n",
    "\n",
    "Use the `data/precipitation/805333-precip-daily-1948-2013.csv` file. Create a plot of Daily total precipitation for aug 1 - October 1 2013. Use `pandas` to import and process your data. Make sure the dataframe has a datetime index\n",
    "\n",
    "Subset the data using `pandas` syntax `[\"\":\"\"]`. This means that your date column should be setup as an index."
   ]
  },
  {
   "cell_type": "code",
   "execution_count": null,
   "metadata": {},
   "outputs": [],
   "source": []
  },
  {
   "cell_type": "markdown",
   "metadata": {},
   "source": [
    "## Document calculate_return function\n",
    "\n",
    "The function below can be used to calculate the return values associated with a time series dataset. This function takes all of the code that we used in class and consolidates it into one small function call.\n",
    "\n",
    "Add documentation to the function below including:\n",
    "\n",
    "1. An overview of what the function does\n",
    "2. The parameters that the function takes as input(s)\n",
    "3. What the function returns\n",
    "\n",
    "Check out the [rasterio mask functions](https://github.com/mapbox/rasterio/blob/960a906dad2a4e426387ce048a52c6e90afdcd2b/rasterio/mask.py) for guidance on how to properly document a function.\n",
    "\n",
    "Note that rasterio also includes an example of how to use the function. You do not need to add this to your documentation. "
   ]
  },
  {
   "cell_type": "code",
   "execution_count": null,
   "metadata": {},
   "outputs": [],
   "source": [
    "# Create a function from the workflow below\n",
    "\n",
    "# add an argument for annual vs daily...\n",
    "\n",
    "\n",
    "def calculate_return(df, colname):\n",
    "    '''\n",
    "    Add Documentation Here\n",
    "\n",
    "\n",
    "    '''\n",
    "    sorted_data = df.sort_values(by=colname)\n",
    "    n = sorted_data.shape[0]\n",
    "    sorted_data.insert(0, 'rank', range(1, 1 + n))\n",
    "    sorted_data[\"probability\"] = (n - sorted_data[\"rank\"] + 1) / (n + 1)\n",
    "    sorted_data[\"return-years\"] = (1 / sorted_data[\"probability\"])\n",
    "\n",
    "    return(sorted_data)"
   ]
  },
  {
   "cell_type": "markdown",
   "metadata": {},
   "source": [
    "## Plot 5a & b - Return Period for Stream Discharge\n",
    "\n",
    "### Step 1\n",
    "Following the activity that we did together in class (or that you can view here), \n",
    "use the hydrofunctions packages to import `dv` (daily value) stream discharge data from the USGS site: 06730500 into python. Use the start and end time periods listed below.\n",
    "\n",
    "```\n",
    "site = \"06730500\"\n",
    "start = '1946-05-10'\n",
    "end = '2018-08-29'\n",
    "```\n",
    "Calculate the annual maximum discharge value from this data. \n",
    "\n",
    "\n",
    "### Step 2\n",
    "Next, download the peak stream discharge annual max data from the USGS site. The URL and code to download the data are below. \n",
    "\n",
    "```python\n",
    "# download usgs annual max data from figshare\n",
    "url = \"https://nwis.waterdata.usgs.gov/nwis/peak?site_no=06730500&agency_cd=USGS&format=rdb\"\n",
    "download_path = \"data/colorado-flood/downloads/annual-peak-flow.txt\"\n",
    "urllib.request.urlretrieve(url, download_path)\n",
    "```\n",
    "\n",
    "### Step 3\n",
    "Then use the return_time function above to calculate return time on the annual max value data that you calculated and the annual max data that you downloaded using the code above.\n",
    "\n",
    "For each step you will need to do some data cleaning.  Plot both datasets together as follows:\n",
    "\n",
    "#### Plot 5A\n",
    "* discharge of the x-axis and probability on the y-axis for each dataset (one plot)\n",
    "\n",
    "#### Plot 5B\n",
    "* Return period of the x-axis and Discharge (CFS) on the `y-axis` for each dataset (one plot)\n",
    "\n",
    "[Use this lesson]({{site.url}}/courses/earth-analytics-python/use-time-series-data-in-python/floods-return-period-and-probability/) to help walk you through creating these plots. [Also use this notebook on github as a guide](https://github.com/earthlab-education/earth-analytics-fall-2018/blob/master/week-03/exceedance-probability-and-return-periods.ipynb)\n",
    "\n",
    "We went through part of this lesson together in class. "
   ]
  },
  {
   "cell_type": "code",
   "execution_count": null,
   "metadata": {},
   "outputs": [],
   "source": [
    "## Plot 5a goes in this cell"
   ]
  },
  {
   "cell_type": "code",
   "execution_count": null,
   "metadata": {},
   "outputs": [],
   "source": [
    "## Plot 5b goes in this cell"
   ]
  },
  {
   "cell_type": "markdown",
   "metadata": {},
   "source": [
    "## Plot 6 a & b\n",
    "\n",
    "Complete the same steps that you did above but use the `data/colorado-flood/precipitation/805333-precip-daily-1948-2013.csv` data"
   ]
  },
  {
   "cell_type": "code",
   "execution_count": null,
   "metadata": {},
   "outputs": [],
   "source": [
    "## Plot 6a goes in this cell"
   ]
  },
  {
   "cell_type": "code",
   "execution_count": null,
   "metadata": {},
   "outputs": [],
   "source": [
    "## Plot 6b goes in this cell"
   ]
  },
  {
   "cell_type": "code",
   "execution_count": null,
   "metadata": {},
   "outputs": [],
   "source": []
  }
 ],
 "metadata": {
  "kernelspec": {
   "display_name": "Python [conda env:earth-analytics-python]",
   "language": "python",
   "name": "conda-env-earth-analytics-python-py"
  },
  "language_info": {
   "codemirror_mode": {
    "name": "ipython",
    "version": 3
   },
   "file_extension": ".py",
   "mimetype": "text/x-python",
   "name": "python",
   "nbconvert_exporter": "python",
   "pygments_lexer": "ipython3",
   "version": "3.6.6"
  }
 },
 "nbformat": 4,
 "nbformat_minor": 2
}
