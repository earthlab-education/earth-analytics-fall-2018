{
 "cells": [
  {
   "cell_type": "markdown",
   "metadata": {},
   "source": [
    "# Week 4 Spatial Vector Data Homework Template\n",
    "\n",
    "As you add code to this template please:\n",
    "\n",
    "* Be sure to follow pep8 standards. Use the pep8 tool if you need to!\n",
    "* Keep comments concise and strategic. Don't comment every line!\n",
    "* Organize your code in a way that it's easy to follow. \n",
    "* Place ONLY the code needed to create a plot in the plot cells. Place additional processing code ABOVE that cell (in a separate code cell)\n",
    "* Only include code, packages, and outputs that are CRUCIAL to your homework assignment. If there is extra items in your code, you will lose points!\n"
   ]
  },
  {
   "cell_type": "code",
   "execution_count": 18,
   "metadata": {
    "tags": [
     "hide"
    ]
   },
   "outputs": [],
   "source": [
    "## Import packages and set working directory here\n",
    "## Add code cells as you need to below"
   ]
  },
  {
   "cell_type": "markdown",
   "metadata": {},
   "source": [
    "## Plot 1 - Roads Map and Legend\n",
    "\n",
    "Create a map of California roads:\n",
    "\n",
    "1. Import the `madera-county-roads/tl_2013_06039_roads.shp` layer located in your `spatial-vector-lidar` data download.\n",
    "2. Create a map that shows the madera roads layer, sjer plot locations and the `sjer_aoi` boundary (`sjer_crop.shp`).\n",
    "3. Plot the roads so different **road types** (using the RTTYP field) are represented using unique symbology. Use the `RTTYP` field to plot unique road types.\n",
    "4. Map the plot locations by the attribute **plot type** using unique symbology for each \"type\".\n",
    "4. Add a **title** to your plot.\n",
    "5. Adjust your plot legend so that the full name for each `RTTYP` name is clearly represented in your legend. HINT: You will need to consult the metadata for that layer to determine what each `RTTYP` type represents.\n",
    "6. Be sure that your plot legend is not covering your data.\n",
    "\n",
    "**IMPORTANT:** be sure that all of the data are within the same `EXTENT` and `crs` of the `sjer_aoi` layer. This means that you may have to crop and reproject your data prior to plotting it!"
   ]
  },
  {
   "cell_type": "code",
   "execution_count": null,
   "metadata": {},
   "outputs": [],
   "source": []
  },
  {
   "cell_type": "code",
   "execution_count": 20,
   "metadata": {
    "tags": [
     "hide"
    ]
   },
   "outputs": [],
   "source": [
    "## PLOT 1 - Place the code required to plot your data only here\n",
    "## additional processing code can go above this code cell"
   ]
  },
  {
   "cell_type": "markdown",
   "metadata": {},
   "source": [
    "## Table 1 - Calculate Total Length of Road Siskiyou, Modoc, Del Norte County in California\n",
    "\n",
    "Create a geopandas `data.frame` that shows the total length of road in each county in the state of California.\n",
    "To calculate this use the following layers:\n",
    "\n",
    "* Counties in California: `spatial-vector-lidar/california/ca_counties/CA_Counties_TIGER2016.shp` layer \n",
    "* Roads: `spatial-vector-lidar/global/ne_10m_roads/ne_10m_roads.shp` layer \n",
    "\n",
    "IMPORTANT: before performing this calculation, REPROJECT both data layers to albers `.to_crs({'init': 'epsg:5070'})`\n",
    "Tips\n",
    "\n",
    "* Both layers need to the in the SAME coordinate reference system for you to work with them together. \n",
    "* You will want to clip the roads to the boundary of California. The `unary_union` attribute will be useful for this clip operation!\n",
    "* you may need to rename a column for this to work properly. You can use `dataframe.rename(columns = {'old-col-name':'new-col-name'}, inplace = True)` to rename a column in pandas. \n",
    "* To assign each road to it's respective county, you will need to do a spatial join using `.sjoin()`\n",
    "\n",
    "* Finally calculate the length of each road segment. \n",
    "\n",
    "To calculate length of each line in your geodataframe , you can use the syntax `geopandas_dataframe_name.length`. Create a new column using the syntax:\n",
    "\n",
    "`geopandas_dataframe_name[\"length\"] = geopandas_dataframe_name.length`\n",
    "\n",
    "* Summarize the data to calculate total length using pandas `.groupby()` on the county column name.\n",
    "\n",
    "HINT: use: `pd.options.display.float_format = '{:.4f}'.format` if you'd like to turn off scientific notation for your outputs.\n"
   ]
  },
  {
   "cell_type": "code",
   "execution_count": 24,
   "metadata": {
    "tags": [
     "hide"
    ]
   },
   "outputs": [],
   "source": [
    "## TABLE 1 - Place the code required to plot your data only here\n",
    "## additional processing code can go above this code cell"
   ]
  },
  {
   "cell_type": "markdown",
   "metadata": {},
   "source": [
    "## Plot 2 - Roads in Del Norte, Modoc & Siskiyou Counties\n",
    "\n",
    "Using the dataframe that you created above with each road assigned to the county that it is within, create a map of roads by county. Color the roads in each county using a unique color.\n",
    "\n",
    "Below is a map of the road layers clipped to the three counties to help you check your answer!\n",
    "HINT: use the `legend=True` argument in `.plot()` to create a legend."
   ]
  },
  {
   "cell_type": "code",
   "execution_count": 1,
   "metadata": {
    "caption": "Map showing the roads layer clipped to the three counties and colored according to which county the road is in.",
    "tags": [
     "hide"
    ]
   },
   "outputs": [],
   "source": [
    "## PLOT 2 - Place the code required to plot your data only here\n",
    "## Additional processing code can go above this code cell"
   ]
  },
  {
   "cell_type": "markdown",
   "metadata": {},
   "source": [
    "## Plot 3a & b  - Quantile Maps for The USA\n",
    "\n",
    "The 2014 census layer: `\"data/spatial-vector-lidar/usa/usa-states-census-2014.shp\"` contains an `ALAND` and `AWATER` attribute columns that represent calculated total land and water area for each state in the continental United States. Use this layer to summarize the data by `region`. Then provide a table that shows summary values for each attribute \n",
    "\n",
    "Use this layer to calculate mean values for `ALAND` and `AWATER` found in the attributes. "
   ]
  },
  {
   "cell_type": "code",
   "execution_count": 2,
   "metadata": {
    "caption": "Total land and total water aggregated by region in the United States.",
    "tags": [
     "hide"
    ]
   },
   "outputs": [],
   "source": [
    "## PLOT 3a, b - Place the code required to plot your data only here\n",
    "## Additional processing code can go above this code cell\n",
    "\n",
    "fig, (ax1, ax2) = plt.subplots(2, 1, figsize=(10, 10))"
   ]
  },
  {
   "cell_type": "markdown",
   "metadata": {},
   "source": [
    "## Plot 4\n",
    "\n",
    "1. Download the natural earth data using the code below. Be sure to add the download packate to the TOP of your notebook. It is just here as an example to highlight that you will need to use this package to download the data.\n",
    "\n",
    "After you have downloaded the data, import the data and \n",
    "1. subset the data to include the following columns: `[\"REGION_WB\", \"CONTINENT\", \"POP_RANK\",\"POP_EST\", 'geometry']`\n",
    "2. Dissolve the data by region (`REGION_WB`) column and aggregate by sum and mean. HINT: you can provide the aggfun= argument with a [list] of functions in quotes and it will summarize numeric columns using each function\n",
    "3. Create two plots within one matplotlib figure \n",
    "    a. Create a plot of the sum estimated population (`POP_EST`) by region\n",
    "    b. Create a plot of the mean population range (`POP_RANK`) by region\n",
    "    \n",
    "You can use the code below to download and unzip the data from the Natural Earth website.\n",
    "Please note that the download function was written to take\n",
    "\n",
    "1. a download path - this is the directory where you want to store your data\n",
    "2. a url - this is the URL where the data are located. The URL below might look odd as it has two \"http\" strings in it but it is how the url's are organized on natural earth and should work. \n",
    "\n",
    "The `download()` function will unzip your data for you and place it in the directory that you specify. "
   ]
  },
  {
   "cell_type": "code",
   "execution_count": 30,
   "metadata": {},
   "outputs": [],
   "source": [
    "## PLOT 3 - Place the code required to plot your data only here\n",
    "## Additional processing code can go above this code cell\n",
    "\n",
    "fig, (ax1, ax2) = plt.subplots(2, 1, figsize=(10, 10))"
   ]
  }
 ],
 "metadata": {
  "anaconda-cloud": {},
  "celltoolbar": "Edit Metadata",
  "kernelspec": {
   "display_name": "Python [conda env:earth-analytics-python]",
   "language": "python",
   "name": "conda-env-earth-analytics-python-py"
  },
  "language_info": {
   "codemirror_mode": {
    "name": "ipython",
    "version": 3
   },
   "file_extension": ".py",
   "mimetype": "text/x-python",
   "name": "python",
   "nbconvert_exporter": "python",
   "pygments_lexer": "ipython3",
   "version": "3.6.6"
  }
 },
 "nbformat": 4,
 "nbformat_minor": 2
}
