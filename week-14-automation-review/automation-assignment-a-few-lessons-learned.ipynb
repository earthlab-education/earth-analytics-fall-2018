{
 "cells": [
  {
   "cell_type": "markdown",
   "metadata": {
    "slideshow": {
     "slide_type": "slide"
    }
   },
   "source": [
    "## Automation\n",
    "\n",
    "A few lessons learned Earth Analytics 2018"
   ]
  },
  {
   "cell_type": "code",
   "execution_count": 1,
   "metadata": {
    "slideshow": {
     "slide_type": "skip"
    }
   },
   "outputs": [],
   "source": [
    "import pandas as pd\n",
    "import matplotlib.pyplot as plt\n",
    "import os\n",
    "import numpy as np\n",
    "import earthpy.spatial as es"
   ]
  },
  {
   "cell_type": "markdown",
   "metadata": {
    "slideshow": {
     "slide_type": "slide"
    }
   },
   "source": [
    "## Using Multiple .append() Calls Takes Time!\n",
    "\n",
    "`.append()` creates a new object - EVERY TIME it is called  \n"
   ]
  },
  {
   "cell_type": "markdown",
   "metadata": {
    "slideshow": {
     "slide_type": "slide"
    }
   },
   "source": [
    "```python\n",
    "# Create empty lists to hold values\n",
    "ndvi_final = []\n",
    "month_values = []\n",
    "site_name_list = []\n",
    "\n",
    "# Collect month, mean ndvi & site, add to list\n",
    "month_values.append(band[-32:-30])\n",
    "ndvi_temp_values.append(ndvi_mean_temp)\n",
    "site_name_list.append(subdirs)\n",
    "\n",
    "ndvi_final.append(ndvi_temp_values)\n",
    "# Unpack the nested ndvi_temp_values list\n",
    "ndvi = [value for temp_value in ndvi_final for value in temp_value]\n",
    "```"
   ]
  },
  {
   "cell_type": "markdown",
   "metadata": {
    "slideshow": {
     "slide_type": "slide"
    }
   },
   "source": [
    "## What Approach is Fastest?\n",
    "\n",
    "try it! "
   ]
  },
  {
   "cell_type": "code",
   "execution_count": 2,
   "metadata": {
    "slideshow": {
     "slide_type": "slide"
    }
   },
   "outputs": [
    {
     "name": "stdout",
     "output_type": "stream",
     "text": [
      "903 ns ± 186 ns per loop (mean ± std. dev. of 7 runs, 1000000 loops each)\n"
     ]
    }
   ],
   "source": [
    "%%timeit\n",
    "val1 = list()\n",
    "val2 = list()\n",
    "val3 = list()\n",
    "\n",
    "val1.append([1])\n",
    "val2.append([15])\n",
    "val3.append([\"SJER\"])\n",
    "# 1 microsecond = 1,000 nano seconds = ~1,036 ns"
   ]
  },
  {
   "cell_type": "code",
   "execution_count": 3,
   "metadata": {
    "slideshow": {
     "slide_type": "slide"
    }
   },
   "outputs": [
    {
     "name": "stdout",
     "output_type": "stream",
     "text": [
      "312 ns ± 23.6 ns per loop (mean ± std. dev. of 7 runs, 1000000 loops each)\n"
     ]
    }
   ],
   "source": [
    "%%timeit\n",
    "all_data = list()\n",
    "\n",
    "ndvi = 1\n",
    "day = 15\n",
    "site = \"SJER\"\n",
    "all_data.append([ndvi, day, site])"
   ]
  },
  {
   "cell_type": "code",
   "execution_count": 4,
   "metadata": {
    "slideshow": {
     "slide_type": "skip"
    }
   },
   "outputs": [],
   "source": [
    "# Cell to generate objects as timeit runs in it's own namespace\n",
    "all_data = list()\n",
    "\n",
    "ndvi = 1\n",
    "day = 15\n",
    "site = \"SJER\"\n",
    "all_data.append([ndvi, day, site])"
   ]
  },
  {
   "cell_type": "code",
   "execution_count": 5,
   "metadata": {
    "slideshow": {
     "slide_type": "slide"
    }
   },
   "outputs": [
    {
     "data": {
      "text/html": [
       "<div>\n",
       "<style scoped>\n",
       "    .dataframe tbody tr th:only-of-type {\n",
       "        vertical-align: middle;\n",
       "    }\n",
       "\n",
       "    .dataframe tbody tr th {\n",
       "        vertical-align: top;\n",
       "    }\n",
       "\n",
       "    .dataframe thead th {\n",
       "        text-align: right;\n",
       "    }\n",
       "</style>\n",
       "<table border=\"1\" class=\"dataframe\">\n",
       "  <thead>\n",
       "    <tr style=\"text-align: right;\">\n",
       "      <th></th>\n",
       "      <th>ndvi</th>\n",
       "      <th>day</th>\n",
       "      <th>site</th>\n",
       "    </tr>\n",
       "  </thead>\n",
       "  <tbody>\n",
       "    <tr>\n",
       "      <th>0</th>\n",
       "      <td>1</td>\n",
       "      <td>15</td>\n",
       "      <td>SJER</td>\n",
       "    </tr>\n",
       "  </tbody>\n",
       "</table>\n",
       "</div>"
      ],
      "text/plain": [
       "   ndvi  day  site\n",
       "0     1   15  SJER"
      ]
     },
     "execution_count": 5,
     "metadata": {},
     "output_type": "execute_result"
    }
   ],
   "source": [
    "# Once you have a list of all values, you can neatly create a pandas dataframe\n",
    "pd.DataFrame(all_data,\n",
    "             columns=[\"ndvi\", \"day\", \"site\"])"
   ]
  },
  {
   "cell_type": "markdown",
   "metadata": {
    "slideshow": {
     "slide_type": "slide"
    }
   },
   "source": [
    "## Avoid Manually Created Loop Counters"
   ]
  },
  {
   "cell_type": "code",
   "execution_count": 6,
   "metadata": {
    "slideshow": {
     "slide_type": "slide"
    }
   },
   "outputs": [
    {
     "name": "stdout",
     "output_type": "stream",
     "text": [
      "1\n",
      "2\n",
      "3\n"
     ]
    }
   ],
   "source": [
    "all_sites = [\"site1\", \"site2\", \"site3\"]\n",
    "# Initialize loop counter\n",
    "loop_count = 0\n",
    "\n",
    "for site in all_sites:\n",
    "    loop_count = loop_count + 1\n",
    "    print(loop_count)"
   ]
  },
  {
   "cell_type": "markdown",
   "metadata": {
    "slideshow": {
     "slide_type": "slide"
    }
   },
   "source": [
    "## Instead Of a Counter, Use Enumerate\n",
    "\n",
    "The result: cleaner code.\n"
   ]
  },
  {
   "cell_type": "code",
   "execution_count": 7,
   "metadata": {
    "slideshow": {
     "slide_type": "slide"
    }
   },
   "outputs": [
    {
     "name": "stdout",
     "output_type": "stream",
     "text": [
      "0 site1\n",
      "1 site2\n",
      "2 site3\n"
     ]
    }
   ],
   "source": [
    "# Use enumerate\n",
    "all_sites = [\"site1\", \"site2\", \"site3\"]\n",
    "\n",
    "for counter, site in enumerate(all_sites):\n",
    "    print(counter, site)"
   ]
  },
  {
   "cell_type": "markdown",
   "metadata": {
    "slideshow": {
     "slide_type": "slide"
    }
   },
   "source": [
    "## Always Sort Lists from Glob\n",
    "\n",
    "Why, you might ask?"
   ]
  },
  {
   "cell_type": "markdown",
   "metadata": {
    "slideshow": {
     "slide_type": "slide"
    }
   },
   "source": [
    "![](ndvi-plot.png)"
   ]
  },
  {
   "cell_type": "markdown",
   "metadata": {
    "slideshow": {
     "slide_type": "slide"
    }
   },
   "source": [
    "<img src=\"scooby.png\" style=\"width:500px;height:500px;\"> "
   ]
  },
  {
   "cell_type": "code",
   "execution_count": 8,
   "metadata": {
    "slideshow": {
     "slide_type": "slide"
    }
   },
   "outputs": [
    {
     "data": {
      "text/plain": [
       "['data/file/stuff_band_5.tif', 'data/file/stuff_band_4.tif']"
      ]
     },
     "execution_count": 8,
     "metadata": {},
     "output_type": "execute_result"
    }
   ],
   "source": [
    "# What if you have two file paths that are not in the right order?\n",
    "file_paths = [os.path.join(\"data\", \"file\", \"stuff_band_5.tif\"),\n",
    "              os.path.join(\"data\", \"file\", \"stuff_band_4.tif\")]\n",
    "file_paths"
   ]
  },
  {
   "cell_type": "code",
   "execution_count": 9,
   "metadata": {
    "slideshow": {
     "slide_type": "slide"
    }
   },
   "outputs": [
    {
     "data": {
      "text/plain": [
       "['data/file/stuff_band_4.tif', 'data/file/stuff_band_5.tif']"
      ]
     },
     "execution_count": 9,
     "metadata": {},
     "output_type": "execute_result"
    }
   ],
   "source": [
    "# Sort the data\n",
    "file_paths.sort()\n",
    "file_paths"
   ]
  },
  {
   "cell_type": "markdown",
   "metadata": {
    "slideshow": {
     "slide_type": "slide"
    }
   },
   "source": [
    "![](ndvi-plot.png)"
   ]
  },
  {
   "cell_type": "markdown",
   "metadata": {
    "slideshow": {
     "slide_type": "slide"
    }
   },
   "source": [
    "## Add Checks to Your Code\n",
    "\n",
    "How do you know you are calculating NDVI on the correct bands?"
   ]
  },
  {
   "cell_type": "code",
   "execution_count": 10,
   "metadata": {
    "slideshow": {
     "slide_type": "slide"
    }
   },
   "outputs": [
    {
     "data": {
      "text/plain": [
       "(\"i'm band 4\", \"i'm band 5\")"
      ]
     },
     "execution_count": 10,
     "metadata": {},
     "output_type": "execute_result"
    }
   ],
   "source": [
    "# OPTION : test to ensure you are grabbing the right band\n",
    "for file in file_paths:\n",
    "    if \"band_4\" in file:\n",
    "        band4 = \"i'm band 4\"\n",
    "    elif \"band_5\" in file:\n",
    "        band5 = \"i'm band 5\"\n",
    "    else:  # Make sure there are the correct bands for NDVI calculation are in the given folder\n",
    "        raise ValueError(\n",
    "            \"\"\"Oops, I can't find the right bands. \n",
    "            Thanks for playing.\"\"\")\n",
    "\n",
    "band4, band5"
   ]
  },
  {
   "cell_type": "code",
   "execution_count": 11,
   "metadata": {
    "slideshow": {
     "slide_type": "slide"
    }
   },
   "outputs": [
    {
     "data": {
      "text/plain": [
       "array([[ 0.5       ,  0.4       , -0.125     ,  0.2       , -1.        ],\n",
       "       [-0.45454545,  0.16666667,  0.63636364, -0.5       , -0.23076923],\n",
       "       [ 0.27272727,  0.05882353, -0.14285714, -0.11111111,  1.        ],\n",
       "       [ 0.14285714,  0.16666667, -1.        ,  0.23076923, -0.5       ]])"
      ]
     },
     "execution_count": 11,
     "metadata": {},
     "output_type": "execute_result"
    }
   ],
   "source": [
    "# OPTION 2: use dictionaries with keys\n",
    "my_dict = {}\n",
    "for file in file_paths:\n",
    "    # Get band name from file given all files are uniformly named\n",
    "    the_band = file[16:22]\n",
    "    # Open the band and store a raster in the dictionary\n",
    "    my_dict[the_band] = np.random.randint(10, size=(4, 5))\n",
    "\n",
    "# Note you'd prob want to test to ensure two bands exist here or above to calculate ndvi!\n",
    "ndvi = es.normalized_diff(b1=my_dict[\"band_4\"], b2=my_dict[\"band_5\"])\n",
    "ndvi.data®"
   ]
  },
  {
   "cell_type": "markdown",
   "metadata": {
    "slideshow": {
     "slide_type": "slide"
    }
   },
   "source": [
    "## But still, how do you know you're using the right bands?"
   ]
  },
  {
   "cell_type": "code",
   "execution_count": 12,
   "metadata": {
    "slideshow": {
     "slide_type": "slide"
    }
   },
   "outputs": [
    {
     "data": {
      "text/plain": [
       "({'band_4': 5, 'band_5': 5}, 0)"
      ]
     },
     "execution_count": 12,
     "metadata": {},
     "output_type": "execute_result"
    }
   ],
   "source": [
    "# OPTION 2: use dictionaries with keys!\n",
    "my_dict = {}\n",
    "for file in file_paths:\n",
    "    the_band = file[16:22]\n",
    "    my_dict[the_band] = 5\n",
    "\n",
    "# Do both bands exist? if they do calculate NDVI, otherwise fail gracefully\n",
    "try:\n",
    "    ndvi = my_dict['band_5'] - my_dict['band_4']\n",
    "except AssertionError:\n",
    "    raise AssertionError(\"\"\"Please make sure that you have a band 4 and \n",
    "                         band 5 for for this landsat scene\"\"\")\n",
    "\n",
    "my_dict, ndvi"
   ]
  },
  {
   "cell_type": "code",
   "execution_count": 13,
   "metadata": {
    "slideshow": {
     "slide_type": "slide"
    }
   },
   "outputs": [
    {
     "ename": "KeyError",
     "evalue": "'band_5'",
     "output_type": "error",
     "traceback": [
      "\u001b[0;31m---------------------------------------------------------------------------\u001b[0m",
      "\u001b[0;31mKeyError\u001b[0m                                  Traceback (most recent call last)",
      "\u001b[0;32m<ipython-input-13-e3f648ee6a2e>\u001b[0m in \u001b[0;36m<module>\u001b[0;34m()\u001b[0m\n\u001b[1;32m      9\u001b[0m \u001b[0;31m# DO both bands exist? if they do calculate NDVI, otherwise fail gracefully\u001b[0m\u001b[0;34m\u001b[0m\u001b[0;34m\u001b[0m\u001b[0m\n\u001b[1;32m     10\u001b[0m \u001b[0;32mtry\u001b[0m\u001b[0;34m:\u001b[0m\u001b[0;34m\u001b[0m\u001b[0m\n\u001b[0;32m---> 11\u001b[0;31m     \u001b[0mndvi\u001b[0m \u001b[0;34m=\u001b[0m \u001b[0mmy_dict\u001b[0m\u001b[0;34m[\u001b[0m\u001b[0;34m\"band_5\"\u001b[0m\u001b[0;34m]\u001b[0m \u001b[0;34m-\u001b[0m \u001b[0mmy_dict\u001b[0m\u001b[0;34m[\u001b[0m\u001b[0;34m\"band_4\"\u001b[0m\u001b[0;34m]\u001b[0m\u001b[0;34m\u001b[0m\u001b[0m\n\u001b[0m\u001b[1;32m     12\u001b[0m \u001b[0;32mexcept\u001b[0m \u001b[0mAssertionError\u001b[0m\u001b[0;34m:\u001b[0m\u001b[0;34m\u001b[0m\u001b[0m\n\u001b[1;32m     13\u001b[0m     raise AssertionError(\"\"\"Opps, can't calculate NDVI. You need band 4 and \n",
      "\u001b[0;31mKeyError\u001b[0m: 'band_5'"
     ]
    }
   ],
   "source": [
    "# OPTION 2: use dictionaries with keys!\n",
    "file_paths_2 = [os.path.join(\"data\", \"file\", \"stuff_band_6.tif\"),\n",
    "              os.path.join(\"data\", \"file\", \"stuff_band_4.tif\")]\n",
    "my_dict = {}\n",
    "for file in file_paths_2:\n",
    "    the_band = file[16:22]\n",
    "    my_dict[the_band] = 5\n",
    "\n",
    "# DO both bands exist? if they do calculate NDVI, otherwise fail gracefully\n",
    "try:\n",
    "    ndvi = my_dict['band_5'] - my_dict['band_4']\n",
    "except AssertionError:\n",
    "    raise AssertionError(\"\"\"Opps, can't calculate NDVI. You need band 4 and \n",
    "                         band 5 for for this calculation\"\"\")"
   ]
  },
  {
   "cell_type": "markdown",
   "metadata": {
    "slideshow": {
     "slide_type": "slide"
    }
   },
   "source": [
    "## Parallel Processing - Map is Fast \n",
    "\n",
    "Map uses all CPUs available to iterate (parallel processing). \n",
    "Map requires you to:\n",
    "\n",
    "1. write a function\n",
    "2. iterate on that function across a list of items\n",
    "\n",
    "```python\n",
    "output_map = map(summarize_scene, all_scene_dirs)\n",
    "```"
   ]
  },
  {
   "cell_type": "markdown",
   "metadata": {
    "slideshow": {
     "slide_type": "notes"
    }
   },
   "source": [
    "If you write your code so your function call to process all scenes is OUTSIDE of a loop. This means that you'd want a function that was like (with a shorter funct name of course)\n",
    "\n",
    "`calculate_ndvi_for_a_single_site()`\n",
    "\n",
    "You can then do this\n",
    "\n",
    "```\n",
    "for asite in all_sites:\n",
    "   calculate_ndvi_for_a_single_site(asite)\n",
    "```\n",
    "\n",
    "or this:\n",
    "`[calculate_ndvi_for_a_single_site(asite) for asite in all_sides]`\n",
    "\n",
    "OR use map (fastest)\n",
    "\n",
    "\n",
    "`list(map(calculate_ndvi_for_a_single_site, all_sites))`"
   ]
  },
  {
   "cell_type": "code",
   "execution_count": 24,
   "metadata": {
    "slideshow": {
     "slide_type": "slide"
    }
   },
   "outputs": [],
   "source": [
    "items = [1, 2, 3, 4, 5, 2, 3, 4, 5, 2, 3, 4, 5, 2, 3, 4, 5, 2, 3, 4, 5]\n",
    "\n",
    "def sqr(x):\n",
    "    return x ** 2"
   ]
  },
  {
   "cell_type": "code",
   "execution_count": 16,
   "metadata": {
    "slideshow": {
     "slide_type": "slide"
    }
   },
   "outputs": [
    {
     "name": "stdout",
     "output_type": "stream",
     "text": [
      "9.66 µs ± 621 ns per loop (mean ± std. dev. of 7 runs, 100000 loops each)\n"
     ]
    }
   ],
   "source": [
    "%%timeit\n",
    "my_list = list()\n",
    "for item in items:\n",
    "    my_list.append(sqr(item))\n",
    "\n",
    "my_list"
   ]
  },
  {
   "cell_type": "code",
   "execution_count": 17,
   "metadata": {
    "slideshow": {
     "slide_type": "slide"
    }
   },
   "outputs": [
    {
     "name": "stdout",
     "output_type": "stream",
     "text": [
      "8.56 µs ± 1.09 µs per loop (mean ± std. dev. of 7 runs, 100000 loops each)\n"
     ]
    }
   ],
   "source": [
    "%%timeit\n",
    "list(map(sqr, items))"
   ]
  },
  {
   "cell_type": "code",
   "execution_count": 18,
   "metadata": {
    "slideshow": {
     "slide_type": "slide"
    }
   },
   "outputs": [
    {
     "name": "stdout",
     "output_type": "stream",
     "text": [
      "9.08 µs ± 159 ns per loop (mean ± std. dev. of 7 runs, 100000 loops each)\n"
     ]
    }
   ],
   "source": [
    "%%timeit\n",
    "[sqr(item) for item in items]"
   ]
  },
  {
   "cell_type": "markdown",
   "metadata": {
    "slideshow": {
     "slide_type": "slide"
    }
   },
   "source": [
    "## Plotting Groups in Pandas\n",
    "\n",
    "You can use groups in Pandas to plot data by \"type\". "
   ]
  },
  {
   "cell_type": "code",
   "execution_count": 19,
   "metadata": {
    "slideshow": {
     "slide_type": "slide"
    }
   },
   "outputs": [],
   "source": [
    "# Create some pretend data for 2 sites\n",
    "all_ndvi_vals = [[\"SJER\", .3, \"2018-03-01\"],\n",
    "                 [\"SJER\", .5, \"2018-05-01\"],\n",
    "                 [\"SJER\", .7, \"2018-07-01\"],\n",
    "                 [\"SJER\", .6, \"2018-09-01\"],\n",
    "                 [\"HARV\", .09, \"2018-03-01\"],\n",
    "                 [\"HARV\", .08, \"2018-05-01\"],\n",
    "                 [\"HARV\", .09, \"2018-07-01\"],\n",
    "                 [\"HARV\", 1, \"2018-09-01\"]]\n",
    "\n",
    "all_ndvi_df = pd.DataFrame(all_ndvi_vals,\n",
    "                           columns=[\"site\", \"ndvi\", \"date\"])\n",
    "all_ndvi_df['date'] = pd.to_datetime(all_ndvi_df['date'])"
   ]
  },
  {
   "cell_type": "code",
   "execution_count": 20,
   "metadata": {
    "slideshow": {
     "slide_type": "slide"
    }
   },
   "outputs": [
    {
     "data": {
      "image/png": "[encoded data removed]",
      "text/plain": [
       "<Figure size 432x288 with 1 Axes>"
      ]
     },
     "metadata": {
      "needs_background": "light"
     },
     "output_type": "display_data"
    }
   ],
   "source": [
    "# One option - plot each set of data individually\n",
    "SJER_landsat_means = all_ndvi_df[all_ndvi_df.site == \"SJER\"]\n",
    "HARV_landsat_means = all_ndvi_df[all_ndvi_df.site == \"HARV\"]\n",
    "\n",
    "# Plot data\n",
    "fig, ax1 = plt.subplots(1, 1, figsize=(6, 4))\n",
    "ax1.plot(SJER_landsat_means['date'],\n",
    "         SJER_landsat_means['ndvi'],\n",
    "         c='blue', marker=\"o\", label='SJER')\n",
    "ax1.plot(HARV_landsat_means['date'],\n",
    "         HARV_landsat_means['ndvi'],\n",
    "         c='teal', marker=\"o\", label='HARV')\n",
    "plt.show()"
   ]
  },
  {
   "cell_type": "code",
   "execution_count": 21,
   "metadata": {
    "slideshow": {
     "slide_type": "slide"
    }
   },
   "outputs": [
    {
     "data": {
      "image/png": "[encoded data removed]",
      "text/plain": [
       "<Figure size 432x288 with 1 Axes>"
      ]
     },
     "metadata": {
      "needs_background": "light"
     },
     "output_type": "display_data"
    }
   ],
   "source": [
    "fig, ax = plt.subplots(figsize=(6, 4))\n",
    "all_ndvi_df.groupby(by=\"site\").plot(x=\"date\",\n",
    "                                    y=\"ndvi\",\n",
    "                                    ax=ax)\n",
    "plt.show()"
   ]
  },
  {
   "cell_type": "code",
   "execution_count": 22,
   "metadata": {
    "slideshow": {
     "slide_type": "slide"
    }
   },
   "outputs": [
    {
     "data": {
      "image/png": "[encoded data removed]",
      "text/plain": [
       "<Figure size 432x288 with 1 Axes>"
      ]
     },
     "metadata": {
      "needs_background": "light"
     },
     "output_type": "display_data"
    }
   ],
   "source": [
    "# Create a loop to customize legend\n",
    "fig, ax = plt.subplots(figsize=(6, 4))\n",
    "\"\"\" this will plot the data \"\"\"\n",
    "for name, group in all_ndvi_df.groupby(by='site'):\n",
    "    group.plot(x='date', \n",
    "               y='ndvi', \n",
    "               ax=ax, \n",
    "               label=name)"
   ]
  },
  {
   "cell_type": "markdown",
   "metadata": {
    "slideshow": {
     "slide_type": "slide"
    }
   },
   "source": [
    "## Follow Pep8 Guidelines\n",
    "Use double quotes for strings."
   ]
  },
  {
   "cell_type": "code",
   "execution_count": 23,
   "metadata": {
    "slideshow": {
     "slide_type": "slide"
    }
   },
   "outputs": [],
   "source": [
    "# Use \"\"\" triple quotes instead of \"\"\" -  '''single quotes''' for all text strings\n",
    "def process_and_stack_site(site_path, remove_clouds=False):\n",
    "    '''\n",
    "    This function does stuff...\n",
    "    '''\n",
    "    \n",
    "    # Do something\n",
    "    return # Something\n",
    "    "
   ]
  },
  {
   "cell_type": "code",
   "execution_count": null,
   "metadata": {
    "slideshow": {
     "slide_type": "slide"
    }
   },
   "outputs": [],
   "source": [
    "# Use \"\"\" triple quotes instead of \"\"\" -  '''single quotes''' for all text strings\n",
    "def process_and_stack_site(site_path, var='band'\n",
    "                           remove_clouds=False):\n",
    "    \"\"\"\n",
    "    This function does stuff...\n",
    "    \"\"\"\n",
    "var = \"this is a string\"\n",
    "    \n",
    "    # Do something\n",
    "    return # Something\n",
    "    "
   ]
  }
 ],
 "metadata": {
  "celltoolbar": "Slideshow",
  "kernelspec": {
   "display_name": "Python [conda env:earth-analytics-python]",
   "language": "python",
   "name": "conda-env-earth-analytics-python-py"
  },
  "language_info": {
   "codemirror_mode": {
    "name": "ipython",
    "version": 3
   },
   "file_extension": ".py",
   "mimetype": "text/x-python",
   "name": "python",
   "nbconvert_exporter": "python",
   "pygments_lexer": "ipython3",
   "version": "3.6.6"
  }
 },
 "nbformat": 4,
 "nbformat_minor": 2
}
