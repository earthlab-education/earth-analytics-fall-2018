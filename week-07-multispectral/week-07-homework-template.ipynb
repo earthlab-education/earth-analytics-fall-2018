{
 "cells": [
  {
   "cell_type": "markdown",
   "metadata": {
    "tags": [
     "hide"
    ]
   },
   "source": [
    "\n",
    "\n",
    "# Week 07 Homework - Multispectral Remote Sensing\n",
    "\n",
    "## Produce a Report\n",
    "\n",
    "Create a new `Jupyter Notebook`. Name it: **lastName-firstInitial-weeknumber.ipynb**\n",
    "Within your `.ipynb` document, include the plots listed below. When you are done\n",
    "with your report, convert it to `html` format. Submit both the\n",
    "`.ipynb` file and the `.html or pdf` file to Canvas.\n",
    "\n",
    "\n",
    "### Include the Plots, Text and Outputs Below\n",
    "\n",
    "For all plots:\n",
    "\n",
    "* IMPORTANT: Before you submit your notebook, restart the kernel and run all! Your first cell in the notebook should be [1] and all cells should run in order! You will lose more points if your notebook does not run this week. \n",
    "* In  markdown cell BELOW each plot, add 2-4 sentences that describe what each plot shows. \n",
    "* Add appropriate titles to your plot that clearly and concisely describe what the plot shows.\n",
    "* Be sure to use the correct bands for each plot.\n",
    "* Specify the source of the data used for each plot in a plot caption using `ax.text()`.\n",
    "* OPTIONAL: Apply image stretch to your plots as you see fit. \n",
    "\n",
    "\n",
    "HINT: You can use `ax.text()` to add text to a matplotlib plot.\n",
    "\n",
    "`ax.text(.5, .05, \"Your Caption Here\" , ha='center')`\n",
    "\n",
    "\n",
    "#### HINTS\n",
    "\n",
    "* You will need to reproject the fire boundary to get it to overlay properly on top of each remote sensing dataset above. \n",
    "* Don't forget to set the spatial `extent` for each plot so the data plot correctly!"
   ]
  },
  {
   "cell_type": "markdown",
   "metadata": {},
   "source": [
    "## Project Introduction\n",
    "\n",
    "Here please add 2-4 sentences that overview\n",
    "\n",
    "1. Where the data used in this notebook are from - IE where is the field site located\n",
    "2. What data sources you used in the analysis and \n",
    "3. What event is being studied and when did it occur."
   ]
  },
  {
   "cell_type": "code",
   "execution_count": null,
   "metadata": {
    "extensions": {
     "jupyter_dashboards": {
      "version": 1,
      "views": {
       "grid_default": {},
       "report_default": {
        "hidden": true
       }
      }
     }
    },
    "tags": [
     "hide"
    ]
   },
   "outputs": [],
   "source": [
    "# Import packages and set working directory if needed here\n",
    "\n"
   ]
  },
  {
   "cell_type": "markdown",
   "metadata": {
    "extensions": {
     "jupyter_dashboards": {
      "version": 1,
      "views": {
       "grid_default": {},
       "report_default": {
        "hidden": false
       }
      }
     }
    }
   },
   "source": [
    "## Plots 1 & 2: RGB & CIR Images Using NAIP Data\n",
    "Using Earth Explorer, download NAIP data from 2017 (post fire).\n",
    "\n",
    "If all goes well, your file name should be: `m_3910505_nw_13_1_20170902.tif` where 20170902 represents the year month and day of the data. The first part of the file represents the area that the image covers.\n",
    "\n",
    "Crop the 2017 NAI data to the spatial extent of the 2015 NAIP data. The code below will help you do this. \n",
    "In the example below `naip_2015_bds` is the `.bounds` attribute of the NAIP 2015 rasterio reader object. \n",
    "\n",
    "`naip_clip_extent = mapping(box(*naip_2015_bds))`\n",
    "\n",
    "Create a \n",
    "1. RGB and \n",
    "2. Color Infrared (CIR) image of the study site using the post fire NAIP data.\n",
    "\n",
    "Add the Cold Springs fire boundary to each map. \n",
    "\n",
    "HINT: In a CIR image the:\n",
    "\n",
    "* Infrared band will appear red.\n",
    "* Red band will appear green.\n",
    "* Green band will appear blue.\n",
    "\n",
    "IMPORTANT: Make sure that you use the correct bands to create both images.\n",
    "\n",
    "### Data Sources\n",
    "\n",
    "Use the following data sources for these plots: \n",
    "* NAIP 2015: `cold-springs-fire/naip/m_3910505_nw_13_1_20150919/crop/m_3910505_nw_13_1_20150919_crop.tif`\n",
    "* NAIP 2017: Use the data you download from EarthExplorer\n",
    "* Fire Boundary: `data/cold-springs-fire/vector_layers/fire-boundary-geomac/co_cold_springs_20160711_2200_dd83.shp`"
   ]
  },
  {
   "cell_type": "code",
   "execution_count": null,
   "metadata": {
    "extensions": {
     "jupyter_dashboards": {
      "version": 1,
      "views": {
       "grid_default": {},
       "report_default": {
        "hidden": true
       }
      }
     }
    },
    "tags": [
     "hide"
    ]
   },
   "outputs": [],
   "source": [
    "# Open fire boundary"
   ]
  },
  {
   "cell_type": "code",
   "execution_count": null,
   "metadata": {
    "extensions": {
     "jupyter_dashboards": {
      "version": 1,
      "views": {
       "grid_default": {},
       "report_default": {
        "hidden": true
       }
      }
     }
    },
    "tags": [
     "hide"
    ]
   },
   "outputs": [],
   "source": [
    "# Open both NAIP datasets & reproject fire boundary vector data as needed"
   ]
  },
  {
   "cell_type": "code",
   "execution_count": null,
   "metadata": {
    "caption": "Homework plots 1 & 2 RGB and CIR images using NAIP data from 2017.",
    "extensions": {
     "jupyter_dashboards": {
      "version": 1,
      "views": {
       "grid_default": {},
       "report_default": {
        "hidden": false
       }
      }
     }
    },
    "tags": [
     "hide"
    ]
   },
   "outputs": [],
   "source": [
    "# Add plot code only for plots 1 and 2 here\n",
    "\n",
    "fig, (ax1, ax2) = plt.subplots(2, 1, figsize=(10, 10))\n",
    "\n",
    "\n",
    "plt.show()"
   ]
  },
  {
   "cell_type": "markdown",
   "metadata": {},
   "source": [
    "## What does the a CIR image highlight ?\n",
    "\n",
    "Answer here\n",
    "\n",
    "## What band and what about the wavelengths contained in that band allow a CIR image to highlight the thing that you identified above??\n",
    "Answer here"
   ]
  },
  {
   "cell_type": "markdown",
   "metadata": {
    "extensions": {
     "jupyter_dashboards": {
      "version": 1,
      "views": {
       "grid_default": {},
       "report_default": {
        "hidden": false
       }
      }
     }
    }
   },
   "source": [
    "## Plot 3: Create a Plot of the Difference NDVI Using NAIP Data from 2017 & 2015\n",
    "\n",
    "Calculate and plot the DIFFERENCE between NDVI in 2017 and 2015. To calculate difference **subtract the pre-fire data from the post fire data (post - pre)** to ensure that negative values represent a decrease in NDVI between the two years. \n",
    "\n",
    "For this to work properly you will need to ensure that the 2017 data are CLIPPED to the 2015 data boundary as described for plots 1&2. \n",
    "\n",
    "Add the Cold Springs fire boundary to your plot. \n",
    "\n",
    "### Data \n",
    "Use the following data to complete this plot.\n",
    "\n",
    "* NAIP Pre-fire:  `cold-springs-fire/naip/m_3910505_nw_13_1_20150919/crop/m_3910505_nw_13_1_20150919_crop.tif`\n",
    "* NAIP Post Fire: Use the data that you got from Earth Explorer\n",
    "* Fire Boundary: `data/cold-springs-fire/vector_layers/fire-boundary-geomac/co_cold_springs_20160711_2200_dd83.shp`"
   ]
  },
  {
   "cell_type": "code",
   "execution_count": null,
   "metadata": {
    "extensions": {
     "jupyter_dashboards": {
      "version": 1,
      "views": {
       "grid_default": {},
       "report_default": {
        "hidden": true
       }
      }
     }
    },
    "tags": [
     "hide"
    ]
   },
   "outputs": [],
   "source": [
    "# Calculate NDVI for 2015 and 2017 NAIP data\n",
    "\n",
    "\n",
    "# Calculate NDVI Difference\n",
    "# HINT: this difference calculation will only work if your numpy arrays are the same .shape\n",
    "\n",
    "\n"
   ]
  },
  {
   "cell_type": "code",
   "execution_count": null,
   "metadata": {
    "caption": "Homework plot 3 NDVI difference using NAIP 2017 - NAIP 2015.",
    "extensions": {
     "jupyter_dashboards": {
      "version": 1,
      "views": {
       "grid_default": {},
       "report_default": {
        "hidden": false
       }
      }
     }
    },
    "tags": [
     "hide"
    ]
   },
   "outputs": [],
   "source": [
    "# Place code for NDVI difference post here (post minus pre)\n",
    "\n",
    "fig, ax = plt.subplots(figsize=(12, 6))\n",
    "\n",
    "\n",
    "plt.show()"
   ]
  },
  {
   "cell_type": "markdown",
   "metadata": {},
   "source": [
    "## Write 1-3 sentences: What does the NDVI difference plot show? \n"
   ]
  },
  {
   "cell_type": "markdown",
   "metadata": {
    "extensions": {
     "jupyter_dashboards": {
      "version": 1,
      "views": {
       "grid_default": {},
       "report_default": {
        "hidden": false
       }
      }
     }
    }
   },
   "source": [
    "## Plot 4 & 5: RGB & CIR Images Using Pre-Fire Landsat Data\n",
    "\n",
    "Plot a RGB and CIR image using Landsat data collected pre-fire.\n",
    "\n",
    "Add the Cold Springs fire boundary to each map. You may need to reproject the fire boundary for this to work properly.  \n",
    "    \n",
    "### Data\n",
    "\n",
    "Landsate Prefire Data: `cold-springs-fire/landsat_collect/LC080340322016070701T1-SC20180214145604/crop/`"
   ]
  },
  {
   "cell_type": "code",
   "execution_count": null,
   "metadata": {
    "extensions": {
     "jupyter_dashboards": {
      "version": 1,
      "views": {
       "grid_default": {},
       "report_default": {
        "hidden": true
       }
      }
     }
    },
    "scrolled": true,
    "tags": [
     "hide"
    ]
   },
   "outputs": [],
   "source": [
    "# Import, stack landsat pre-fire data  \n",
    "\n"
   ]
  },
  {
   "cell_type": "code",
   "execution_count": null,
   "metadata": {
    "caption": "Homework plots 4 & 5 RGB and CIR images using Landsat 8 pre-fire.",
    "extensions": {
     "jupyter_dashboards": {
      "version": 1,
      "views": {
       "grid_default": {},
       "report_default": {
        "hidden": false
       }
      }
     }
    },
    "tags": [
     "hide"
    ]
   },
   "outputs": [],
   "source": [
    "# HW Plots 4 & 5 go here - code to plot data only\n",
    "fig, (ax1, ax2) = plt.subplots(2, 1, figsize=(7, 9))\n",
    "\n",
    "\n",
    "plt.show()"
   ]
  },
  {
   "cell_type": "markdown",
   "metadata": {},
   "source": [
    "## List 3 differences between NAIP and Landsat data\n",
    "\n",
    "1. Answer here\n",
    "2. Answer\n",
    "3. Answer"
   ]
  },
  {
   "cell_type": "markdown",
   "metadata": {
    "extensions": {
     "jupyter_dashboards": {
      "version": 1,
      "views": {
       "grid_default": {},
       "report_default": {
        "hidden": true
       }
      }
     }
    }
   },
   "source": [
    "## Plots 6: Calculate NDVI Using Pre-Fire Landsat Data\n",
    "\n",
    "Create map of NDVI pre and post Cold Springs fire using the Landsat pre-fire data.\n",
    "\n",
    "Add the Cold Springs fire boundary to your plot. \n",
    "\n",
    "IMPORTANT: don't forget to label each map appropriately with the date that the\n",
    "data were collected and pre or post fire!"
   ]
  },
  {
   "cell_type": "code",
   "execution_count": null,
   "metadata": {
    "caption": "Homework plot  6 NDVI calculated from Landsat 8 pre-fire data.",
    "extensions": {
     "jupyter_dashboards": {
      "version": 1,
      "views": {
       "grid_default": {},
       "report_default": {
        "hidden": false
       }
      }
     }
    },
    "tags": [
     "hide"
    ]
   },
   "outputs": [],
   "source": [
    "# Calculate Landsat NDVI\n",
    "\n"
   ]
  },
  {
   "cell_type": "code",
   "execution_count": null,
   "metadata": {},
   "outputs": [],
   "source": [
    "# Plot landsat NDVI data in this cell - code to plot data only\n",
    "\n",
    "fig, ax = plt.subplots(figsize=(9, 9))\n",
    "\n",
    "plt.show()"
   ]
  },
  {
   "cell_type": "code",
   "execution_count": null,
   "metadata": {},
   "outputs": [],
   "source": [
    "# In this cell print out the resolution of NAIP data and the resolution of Landsat data using the metadata object"
   ]
  }
 ],
 "metadata": {
  "celltoolbar": "Edit Metadata",
  "extensions": {
   "jupyter_dashboards": {
    "activeView": "report_default",
    "version": 1,
    "views": {
     "grid_default": {
      "name": "grid",
      "type": "grid"
     },
     "report_default": {
      "name": "report",
      "type": "report"
     }
    }
   }
  },
  "kernelspec": {
   "display_name": "Python [default]",
   "language": "python",
   "name": "python3"
  },
  "language_info": {
   "codemirror_mode": {
    "name": "ipython",
    "version": 3
   },
   "file_extension": ".py",
   "mimetype": "text/x-python",
   "name": "python",
   "nbconvert_exporter": "python",
   "pygments_lexer": "ipython3",
   "version": "3.6.6"
  }
 },
 "nbformat": 4,
 "nbformat_minor": 2
}
